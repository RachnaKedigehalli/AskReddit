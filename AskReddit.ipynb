{
  "cells": [
    {
      "cell_type": "markdown",
      "metadata": {
        "id": "7k6xk2PAmdvC"
      },
      "source": [
        "# Imports"
      ]
    },
    {
      "cell_type": "code",
      "execution_count": 114,
      "metadata": {
        "colab": {
          "base_uri": "https://localhost:8080/"
        },
        "id": "8eF2EXXN9Eia",
        "outputId": "17e84714-73a3-43f8-d336-5407ee147508"
      },
      "outputs": [
        {
          "output_type": "stream",
          "name": "stdout",
          "text": [
            "Requirement already satisfied: contractions in /usr/local/lib/python3.7/dist-packages (0.0.58)\n",
            "Requirement already satisfied: textsearch>=0.0.21 in /usr/local/lib/python3.7/dist-packages (from contractions) (0.0.21)\n",
            "Requirement already satisfied: pyahocorasick in /usr/local/lib/python3.7/dist-packages (from textsearch>=0.0.21->contractions) (1.4.2)\n",
            "Requirement already satisfied: anyascii in /usr/local/lib/python3.7/dist-packages (from textsearch>=0.0.21->contractions) (0.3.0)\n",
            "[nltk_data] Downloading package punkt to /root/nltk_data...\n",
            "[nltk_data]   Package punkt is already up-to-date!\n",
            "[nltk_data] Downloading package stopwords to /root/nltk_data...\n",
            "[nltk_data]   Package stopwords is already up-to-date!\n",
            "[nltk_data] Downloading package wordnet to /root/nltk_data...\n",
            "[nltk_data]   Package wordnet is already up-to-date!\n",
            "[nltk_data] Downloading package averaged_perceptron_tagger to\n",
            "[nltk_data]     /root/nltk_data...\n",
            "[nltk_data]   Package averaged_perceptron_tagger is already up-to-\n",
            "[nltk_data]       date!\n"
          ]
        }
      ],
      "source": [
        "import numpy as np\n",
        "import pandas as pd\n",
        "import matplotlib.pyplot as plt\n",
        "\n",
        "# URL, HTML, brackets, digits\n",
        "import re\n",
        "from bs4 import BeautifulSoup\n",
        "# Contractions\n",
        "!pip install contractions\n",
        "import contractions\n",
        "\n",
        "# NLTK\n",
        "import nltk\n",
        "nltk.download('punkt')\n",
        "nltk.download('stopwords')\n",
        "nltk.download('wordnet')\n",
        "nltk.download('averaged_perceptron_tagger')\n",
        "\n",
        "# Tokenization, punctuations and stopwords\n",
        "from nltk.tokenize import word_tokenize\n",
        "import string\n",
        "from nltk.corpus import stopwords, wordnet\n",
        "\n",
        "# Lemmatization\n",
        "from nltk.stem import WordNetLemmatizer\n",
        "\n",
        "# Sentiment Analysis\n",
        "from textblob import TextBlob\n",
        "\n",
        "# Frequency Analysis\n",
        "from nltk.probability import FreqDist\n",
        "from wordcloud import WordCloud\n",
        "\n",
        "# CountVectorizer\n",
        "from sklearn.feature_extraction.text import CountVectorizer\n",
        "\n",
        "# Training\n",
        "from sklearn.feature_extraction.text import TfidfTransformer\n",
        "from sklearn.feature_extraction.text import TfidfVectorizer\n",
        "from sklearn.model_selection import train_test_split\n",
        "\n",
        "# Models\n",
        "from sklearn.svm import LinearSVC\n",
        "from sklearn.linear_model import LogisticRegression, SGDClassifier, Perceptron\n",
        "from sklearn.model_selection import GridSearchCV\n",
        "from sklearn.naive_bayes import GaussianNB, MultinomialNB\n",
        "from sklearn.tree import DecisionTreeClassifier\n",
        "from sklearn.ensemble import RandomForestClassifier, GradientBoostingClassifier, AdaBoostClassifier\n",
        "from sklearn.neural_network import MLPClassifier\n",
        "import xgboost as xgb\n",
        "\n",
        "from sklearn.metrics import f1_score"
      ]
    },
    {
      "cell_type": "code",
      "execution_count": null,
      "metadata": {
        "colab": {
          "base_uri": "https://localhost:8080/"
        },
        "id": "ZK9lJKCz__lH",
        "outputId": "1d713410-1a1e-4cf2-af0a-edc0663c8bd8"
      },
      "outputs": [
        {
          "name": "stdout",
          "output_type": "stream",
          "text": [
            "Drive already mounted at /content/drive; to attempt to forcibly remount, call drive.mount(\"/content/drive\", force_remount=True).\n"
          ]
        }
      ],
      "source": [
        "from google.colab import drive\n",
        "drive.mount('/content/drive')"
      ]
    },
    {
      "cell_type": "code",
      "execution_count": null,
      "metadata": {
        "id": "FHkhNm-LAAJb"
      },
      "outputs": [],
      "source": [
        "df = pd.read_csv(\"/content/drive/My Drive/Colab Notebooks/ML Project/train.csv\")\n",
        "test_df = pd.read_csv(\"/content/drive/My Drive/Colab Notebooks/ML Project/test.csv\")"
      ]
    },
    {
      "cell_type": "code",
      "execution_count": null,
      "metadata": {
        "colab": {
          "base_uri": "https://localhost:8080/"
        },
        "id": "37WMNtpGASbp",
        "outputId": "bd62b54b-b642-4df9-d2cb-abf8f3f68e7f"
      },
      "outputs": [
        {
          "data": {
            "text/html": [
              "\n",
              "  <div id=\"df-7a299a6e-bc03-4435-8245-4ed0c5665d1c\">\n",
              "    <div class=\"colab-df-container\">\n",
              "      <div>\n",
              "<style scoped>\n",
              "    .dataframe tbody tr th:only-of-type {\n",
              "        vertical-align: middle;\n",
              "    }\n",
              "\n",
              "    .dataframe tbody tr th {\n",
              "        vertical-align: top;\n",
              "    }\n",
              "\n",
              "    .dataframe thead th {\n",
              "        text-align: right;\n",
              "    }\n",
              "</style>\n",
              "<table border=\"1\" class=\"dataframe\">\n",
              "  <thead>\n",
              "    <tr style=\"text-align: right;\">\n",
              "      <th></th>\n",
              "      <th>qid</th>\n",
              "      <th>question_text</th>\n",
              "      <th>target</th>\n",
              "    </tr>\n",
              "  </thead>\n",
              "  <tbody>\n",
              "    <tr>\n",
              "      <th>0</th>\n",
              "      <td>a3dee568776c08512c89</td>\n",
              "      <td>What is the role of Lua in Civ4?</td>\n",
              "      <td>0</td>\n",
              "    </tr>\n",
              "    <tr>\n",
              "      <th>1</th>\n",
              "      <td>bdb84f519e7b46e7b7bb</td>\n",
              "      <td>What are important chapters in Kannada for 10 ...</td>\n",
              "      <td>0</td>\n",
              "    </tr>\n",
              "    <tr>\n",
              "      <th>2</th>\n",
              "      <td>29c88db470e2eb5c97ad</td>\n",
              "      <td>Do musicians get royalties from YouTube?</td>\n",
              "      <td>0</td>\n",
              "    </tr>\n",
              "    <tr>\n",
              "      <th>3</th>\n",
              "      <td>3387d99bf2c3227ae8f1</td>\n",
              "      <td>What is the difference between Scaling Social ...</td>\n",
              "      <td>0</td>\n",
              "    </tr>\n",
              "    <tr>\n",
              "      <th>4</th>\n",
              "      <td>e79fa5038f765d0f2e7e</td>\n",
              "      <td>Why do elevators go super slow right before th...</td>\n",
              "      <td>0</td>\n",
              "    </tr>\n",
              "  </tbody>\n",
              "</table>\n",
              "</div>\n",
              "      <button class=\"colab-df-convert\" onclick=\"convertToInteractive('df-7a299a6e-bc03-4435-8245-4ed0c5665d1c')\"\n",
              "              title=\"Convert this dataframe to an interactive table.\"\n",
              "              style=\"display:none;\">\n",
              "        \n",
              "  <svg xmlns=\"http://www.w3.org/2000/svg\" height=\"24px\"viewBox=\"0 0 24 24\"\n",
              "       width=\"24px\">\n",
              "    <path d=\"M0 0h24v24H0V0z\" fill=\"none\"/>\n",
              "    <path d=\"M18.56 5.44l.94 2.06.94-2.06 2.06-.94-2.06-.94-.94-2.06-.94 2.06-2.06.94zm-11 1L8.5 8.5l.94-2.06 2.06-.94-2.06-.94L8.5 2.5l-.94 2.06-2.06.94zm10 10l.94 2.06.94-2.06 2.06-.94-2.06-.94-.94-2.06-.94 2.06-2.06.94z\"/><path d=\"M17.41 7.96l-1.37-1.37c-.4-.4-.92-.59-1.43-.59-.52 0-1.04.2-1.43.59L10.3 9.45l-7.72 7.72c-.78.78-.78 2.05 0 2.83L4 21.41c.39.39.9.59 1.41.59.51 0 1.02-.2 1.41-.59l7.78-7.78 2.81-2.81c.8-.78.8-2.07 0-2.86zM5.41 20L4 18.59l7.72-7.72 1.47 1.35L5.41 20z\"/>\n",
              "  </svg>\n",
              "      </button>\n",
              "      \n",
              "  <style>\n",
              "    .colab-df-container {\n",
              "      display:flex;\n",
              "      flex-wrap:wrap;\n",
              "      gap: 12px;\n",
              "    }\n",
              "\n",
              "    .colab-df-convert {\n",
              "      background-color: #E8F0FE;\n",
              "      border: none;\n",
              "      border-radius: 50%;\n",
              "      cursor: pointer;\n",
              "      display: none;\n",
              "      fill: #1967D2;\n",
              "      height: 32px;\n",
              "      padding: 0 0 0 0;\n",
              "      width: 32px;\n",
              "    }\n",
              "\n",
              "    .colab-df-convert:hover {\n",
              "      background-color: #E2EBFA;\n",
              "      box-shadow: 0px 1px 2px rgba(60, 64, 67, 0.3), 0px 1px 3px 1px rgba(60, 64, 67, 0.15);\n",
              "      fill: #174EA6;\n",
              "    }\n",
              "\n",
              "    [theme=dark] .colab-df-convert {\n",
              "      background-color: #3B4455;\n",
              "      fill: #D2E3FC;\n",
              "    }\n",
              "\n",
              "    [theme=dark] .colab-df-convert:hover {\n",
              "      background-color: #434B5C;\n",
              "      box-shadow: 0px 1px 3px 1px rgba(0, 0, 0, 0.15);\n",
              "      filter: drop-shadow(0px 1px 2px rgba(0, 0, 0, 0.3));\n",
              "      fill: #FFFFFF;\n",
              "    }\n",
              "  </style>\n",
              "\n",
              "      <script>\n",
              "        const buttonEl =\n",
              "          document.querySelector('#df-7a299a6e-bc03-4435-8245-4ed0c5665d1c button.colab-df-convert');\n",
              "        buttonEl.style.display =\n",
              "          google.colab.kernel.accessAllowed ? 'block' : 'none';\n",
              "\n",
              "        async function convertToInteractive(key) {\n",
              "          const element = document.querySelector('#df-7a299a6e-bc03-4435-8245-4ed0c5665d1c');\n",
              "          const dataTable =\n",
              "            await google.colab.kernel.invokeFunction('convertToInteractive',\n",
              "                                                     [key], {});\n",
              "          if (!dataTable) return;\n",
              "\n",
              "          const docLinkHtml = 'Like what you see? Visit the ' +\n",
              "            '<a target=\"_blank\" href=https://colab.research.google.com/notebooks/data_table.ipynb>data table notebook</a>'\n",
              "            + ' to learn more about interactive tables.';\n",
              "          element.innerHTML = '';\n",
              "          dataTable['output_type'] = 'display_data';\n",
              "          await google.colab.output.renderOutput(dataTable, element);\n",
              "          const docLink = document.createElement('div');\n",
              "          docLink.innerHTML = docLinkHtml;\n",
              "          element.appendChild(docLink);\n",
              "        }\n",
              "      </script>\n",
              "    </div>\n",
              "  </div>\n",
              "  "
            ],
            "text/plain": [
              "                    qid  ... target\n",
              "0  a3dee568776c08512c89  ...      0\n",
              "1  bdb84f519e7b46e7b7bb  ...      0\n",
              "2  29c88db470e2eb5c97ad  ...      0\n",
              "3  3387d99bf2c3227ae8f1  ...      0\n",
              "4  e79fa5038f765d0f2e7e  ...      0\n",
              "\n",
              "[5 rows x 3 columns]"
            ]
          },
          "execution_count": 23,
          "metadata": {},
          "output_type": "execute_result"
        }
      ],
      "source": [
        "df.head()"
      ]
    },
    {
      "cell_type": "code",
      "execution_count": null,
      "metadata": {
        "colab": {
          "base_uri": "https://localhost:8080/"
        },
        "id": "Lc4RV6R5Avop",
        "outputId": "cbceb27f-510b-4478-86bd-6c37565c4a7a"
      },
      "outputs": [
        {
          "data": {
            "text/plain": [
              "(653061, 3)"
            ]
          },
          "execution_count": 24,
          "metadata": {},
          "output_type": "execute_result"
        }
      ],
      "source": [
        "df.shape"
      ]
    },
    {
      "cell_type": "markdown",
      "metadata": {
        "id": "AG9BtSfF9pjG"
      },
      "source": [
        "# Pre-processing"
      ]
    },
    {
      "cell_type": "markdown",
      "metadata": {
        "id": "0Wg-DYh2CGM4"
      },
      "source": [
        "## Missing values and duplicate entries"
      ]
    },
    {
      "cell_type": "code",
      "execution_count": null,
      "metadata": {
        "colab": {
          "base_uri": "https://localhost:8080/"
        },
        "id": "RXSE9zjtBkJ_",
        "outputId": "fc5371b6-9839-4349-fdce-8d6a33b460d4"
      },
      "outputs": [
        {
          "data": {
            "text/plain": [
              "qid              0\n",
              "question_text    0\n",
              "target           0\n",
              "dtype: int64"
            ]
          },
          "execution_count": 25,
          "metadata": {},
          "output_type": "execute_result"
        }
      ],
      "source": [
        "df.isna().sum()"
      ]
    },
    {
      "cell_type": "code",
      "execution_count": null,
      "metadata": {
        "colab": {
          "base_uri": "https://localhost:8080/"
        },
        "id": "-ALYOWEZB7EI",
        "outputId": "42093988-7680-4152-ba03-714a25907666"
      },
      "outputs": [
        {
          "data": {
            "text/plain": [
              "qid              0\n",
              "question_text    0\n",
              "target           0\n",
              "dtype: int64"
            ]
          },
          "execution_count": 26,
          "metadata": {},
          "output_type": "execute_result"
        }
      ],
      "source": [
        "(df=='?').sum()"
      ]
    },
    {
      "cell_type": "code",
      "execution_count": null,
      "metadata": {
        "colab": {
          "base_uri": "https://localhost:8080/"
        },
        "id": "sN6lrdj8CAQw",
        "outputId": "76edf135-82e2-404c-e3aa-df463f59cfd8"
      },
      "outputs": [
        {
          "data": {
            "text/plain": [
              "qid              0\n",
              "question_text    0\n",
              "target           0\n",
              "dtype: int64"
            ]
          },
          "execution_count": 27,
          "metadata": {},
          "output_type": "execute_result"
        }
      ],
      "source": [
        "(df==' ').sum()"
      ]
    },
    {
      "cell_type": "markdown",
      "metadata": {
        "id": "aiSMB-XACCO-"
      },
      "source": [
        "There are no missing values."
      ]
    },
    {
      "cell_type": "code",
      "execution_count": null,
      "metadata": {
        "colab": {
          "base_uri": "https://localhost:8080/"
        },
        "id": "sH42eAHWCniQ",
        "outputId": "f4318918-a2fb-4e14-e7d4-8b71520ba634"
      },
      "outputs": [
        {
          "data": {
            "text/plain": [
              "0"
            ]
          },
          "execution_count": 28,
          "metadata": {},
          "output_type": "execute_result"
        }
      ],
      "source": [
        "df.duplicated().sum()"
      ]
    },
    {
      "cell_type": "markdown",
      "metadata": {
        "id": "vnk994TvCu7q"
      },
      "source": [
        "There are no duplicate entries."
      ]
    },
    {
      "cell_type": "markdown",
      "metadata": {
        "id": "x-i9aCP4CSXY"
      },
      "source": [
        "## Examining target"
      ]
    },
    {
      "cell_type": "code",
      "execution_count": null,
      "metadata": {
        "colab": {
          "base_uri": "https://localhost:8080/"
        },
        "id": "cUsfd2sKAynB",
        "outputId": "939423d2-d29b-4ee4-ac3d-f44dc2b23aa2"
      },
      "outputs": [
        {
          "data": {
            "text/plain": [
              "1    40405\n",
              "Name: target, dtype: int64"
            ]
          },
          "execution_count": 29,
          "metadata": {},
          "output_type": "execute_result"
        }
      ],
      "source": [
        "df[df['target']==1]['target'].value_counts()"
      ]
    },
    {
      "cell_type": "code",
      "execution_count": null,
      "metadata": {
        "colab": {
          "base_uri": "https://localhost:8080/"
        },
        "id": "4IFA6kyIBC4T",
        "outputId": "7b5828de-5a87-45d9-b841-4df1e3ec8db6"
      },
      "outputs": [
        {
          "data": {
            "text/plain": [
              "0    612656\n",
              "1     40405\n",
              "Name: target, dtype: int64"
            ]
          },
          "execution_count": 30,
          "metadata": {},
          "output_type": "execute_result"
        }
      ],
      "source": [
        "df['target'].value_counts()"
      ]
    },
    {
      "cell_type": "code",
      "execution_count": null,
      "metadata": {
        "colab": {
          "base_uri": "https://localhost:8080/",
          "height": 298
        },
        "id": "EOqZU8Pql2Ea",
        "outputId": "abef2d0d-e306-413a-cd44-72f76b211357"
      },
      "outputs": [
        {
          "data": {
            "text/plain": [
              "Text(0.5, 1.0, 'Target value count')"
            ]
          },
          "execution_count": 31,
          "metadata": {},
          "output_type": "execute_result"
        },
        {
          "data": {
            "image/png": "[encoded data removed]",
            "text/plain": [
              "<Figure size 432x288 with 1 Axes>"
            ]
          },
          "metadata": {},
          "output_type": "display_data"
        }
      ],
      "source": [
        "plt.bar(['0','1'], df['target'].value_counts(), width=0.5)\n",
        "plt.title('Target value count')"
      ]
    },
    {
      "cell_type": "markdown",
      "metadata": {
        "id": "ZN0VQNWl9lvs"
      },
      "source": [
        "# Text pre-processing"
      ]
    },
    {
      "cell_type": "markdown",
      "metadata": {
        "id": "lUrfjTQN_U1_"
      },
      "source": [
        "We first split the sentence into a list and expand all contractions. Then we combine it back to a sentence. \n",
        "Then we again tokenize it."
      ]
    },
    {
      "cell_type": "markdown",
      "metadata": {
        "id": "j_xitx86njl_"
      },
      "source": [
        "### Removing URL, HTML, brackets, digits"
      ]
    },
    {
      "cell_type": "code",
      "execution_count": null,
      "metadata": {
        "id": "ZIox3b3lYNgS"
      },
      "outputs": [],
      "source": [
        "def remove_url(data_column):\n",
        "  return data_column.apply(lambda sentence: re.sub(r'https://','', sentence))\n",
        "def remove_html(data_column):\n",
        "  return data_column.apply(lambda sentence: BeautifulSoup(sentence, 'html.parser').get_text())\n",
        "def remove_bracket(data_column):\n",
        "  temp = data_column.apply(lambda sentence: re.sub('\\(.*?\\)','', sentence))\n",
        "  return temp.apply(lambda sentence: re.sub('\\[.*?\\]','', sentence))\n",
        "def remove_digit(data_column):\n",
        "  return data_column.apply(lambda sentence: re.sub('[0-9]','', sentence))\n",
        "def remove_underscore(data_column):\n",
        "  return data_column.apply(lambda sentence: sentence.replace(\"_\",\"\"))"
      ]
    },
    {
      "cell_type": "markdown",
      "metadata": {
        "id": "uRcfKI24-Chm"
      },
      "source": [
        "### Expanding contractions\n",
        "\n"
      ]
    },
    {
      "cell_type": "code",
      "execution_count": null,
      "metadata": {
        "id": "gJvrQD7ms_M2"
      },
      "outputs": [],
      "source": [
        "def expand_contractions(data_column):\n",
        "  contractions_expanded = data_column.apply(lambda sentence: [contractions.fix(word) for word in sentence.split()])\n",
        "  return [' '.join(map(str, word)) for word in contractions_expanded]"
      ]
    },
    {
      "cell_type": "markdown",
      "metadata": {
        "id": "lWmUxL1UIsE_"
      },
      "source": [
        "### Tokenization, converting to lower case, removing punctuations and stopwords"
      ]
    },
    {
      "cell_type": "markdown",
      "metadata": {
        "id": "49_r06UbLX1T"
      },
      "source": [
        "Since stopwords like \"a, he, she, you, in, etc.\" do not add any significant meaning to the processing, we remove them from the lower case tokenized sentences."
      ]
    },
    {
      "cell_type": "code",
      "execution_count": null,
      "metadata": {
        "id": "HEB3CwDPkOvV"
      },
      "outputs": [],
      "source": [
        "def tokenize(data_column):\n",
        "  return data_column.apply(word_tokenize)\n",
        "def lower_case(data_column):\n",
        "  return data_column.apply(lambda tokens: [word.lower() for word in tokens])\n",
        "def remove_punctuation(data_column):\n",
        "  return data_column.apply(lambda tokens: [re.sub(r'[^\\w\\s]', '', word) for word in tokens])\n",
        "  # punctuations = string.punctuation\n",
        "  # return data_column.apply(lambda tokens: [word for word in tokens if word not in punctuations])\n",
        "def remove_stopwords(data_column):\n",
        "  stop_words = set(stopwords.words('english'))\n",
        "  return data_column.apply(lambda tokens: [word for word in tokens if word not in stop_words and word])"
      ]
    },
    {
      "cell_type": "markdown",
      "metadata": {
        "id": "TVb_qHB-bYMz"
      },
      "source": [
        "### Lemmatization"
      ]
    },
    {
      "cell_type": "markdown",
      "metadata": {
        "id": "BCwxApmXrrxA"
      },
      "source": [
        "Getting the base form of each word. We chose lemmatization over\n",
        "stemming because stemming doesn’t give accurate results. Eg: for the word “scaling”,\n",
        "lemmatization gives “scale” while stemming gives “scal”."
      ]
    },
    {
      "cell_type": "markdown",
      "metadata": {
        "id": "8AY-LaMfxCzU"
      },
      "source": [
        "NLTK's word lemmatizer requires part of speech (POS) tag of a word, to lemmatize it."
      ]
    },
    {
      "cell_type": "code",
      "execution_count": null,
      "metadata": {
        "id": "H8x9r9jxpZa_"
      },
      "outputs": [],
      "source": [
        "def pos_tags(data_column):\n",
        "  return data_column.apply(nltk.tag.pos_tag)"
      ]
    },
    {
      "cell_type": "markdown",
      "metadata": {
        "id": "q8iBRwmrzzhz"
      },
      "source": [
        "Word lemmatizer requires the POS tags to be in wordnet format."
      ]
    },
    {
      "cell_type": "code",
      "execution_count": null,
      "metadata": {
        "id": "8MJPJsCJuy0U"
      },
      "outputs": [],
      "source": [
        "def get_wordnet_pos(tag):\n",
        "    if tag.startswith('J'):\n",
        "        return wordnet.ADJ\n",
        "    elif tag.startswith('V'):\n",
        "        return wordnet.VERB\n",
        "    elif tag.startswith('N'):\n",
        "        return wordnet.NOUN\n",
        "    elif tag.startswith('R'):\n",
        "        return wordnet.ADV\n",
        "    else:\n",
        "        return wordnet.NOUN"
      ]
    },
    {
      "cell_type": "code",
      "execution_count": null,
      "metadata": {
        "id": "pk7DkzjHz96o"
      },
      "outputs": [],
      "source": [
        "def to_wordnet(data_column):\n",
        "  return data_column.apply(lambda words: [(word, get_wordnet_pos(pos_tag)) for (word, pos_tag) in words])\n",
        "def word_lemmatizer(data_column):\n",
        "  wnl = WordNetLemmatizer()\n",
        "  return data_column.apply(lambda words: [wnl.lemmatize(word, tag) for word, tag in words])"
      ]
    },
    {
      "cell_type": "markdown",
      "metadata": {
        "id": "3kYbigd9r05K"
      },
      "source": [
        "# Pre-processing function calls"
      ]
    },
    {
      "cell_type": "code",
      "execution_count": null,
      "metadata": {
        "id": "lxZxWIV8r0d1"
      },
      "outputs": [],
      "source": [
        "def pre_processing(data, df):\n",
        "  data = remove_url(data)\n",
        "  data = remove_html(data)\n",
        "  data = remove_bracket(data)\n",
        "  data = remove_digit(data)\n",
        "  data = remove_underscore(data)\n",
        "\n",
        "  df['sentences'] = expand_contractions(data)\n",
        "  data = tokenize(df['sentences'])\n",
        "  df.drop('sentences', axis='columns', inplace=True)\n",
        "  data = lower_case(data)\n",
        "  data = remove_punctuation(data)\n",
        "  data = remove_stopwords(data)\n",
        "\n",
        "  data = pos_tags(data)\n",
        "  data = to_wordnet(data)\n",
        "  return word_lemmatizer(data)"
      ]
    },
    {
      "cell_type": "code",
      "execution_count": null,
      "metadata": {
        "colab": {
          "base_uri": "https://localhost:8080/"
        },
        "id": "Hzco9SK4OB5J",
        "outputId": "20a13686-53ee-49e2-ccd4-474a840a21a5"
      },
      "outputs": [
        {
          "data": {
            "text/plain": [
              "((653061, 3), (653061, 2))"
            ]
          },
          "execution_count": 39,
          "metadata": {},
          "output_type": "execute_result"
        }
      ],
      "source": [
        "df.shape, test_df.shape"
      ]
    },
    {
      "cell_type": "code",
      "execution_count": null,
      "metadata": {
        "id": "6Ain__MMNz8N"
      },
      "outputs": [],
      "source": [
        "full_df = pd.concat([df, test_df])"
      ]
    },
    {
      "cell_type": "code",
      "execution_count": null,
      "metadata": {
        "colab": {
          "base_uri": "https://localhost:8080/"
        },
        "id": "hGNX9K72N7lA",
        "outputId": "ebc128a3-73dc-4ce9-94a1-82e4359858d5"
      },
      "outputs": [
        {
          "data": {
            "text/plain": [
              "(1306122, 3)"
            ]
          },
          "execution_count": 41,
          "metadata": {},
          "output_type": "execute_result"
        }
      ],
      "source": [
        "full_df.shape"
      ]
    },
    {
      "cell_type": "code",
      "execution_count": null,
      "metadata": {
        "colab": {
          "background_save": true
        },
        "id": "4i1BVB9Qt4xI"
      },
      "outputs": [],
      "source": [
        "full_df['processed_data'] = pre_processing(full_df['question_text'], full_df)"
      ]
    },
    {
      "cell_type": "code",
      "execution_count": null,
      "metadata": {
        "colab": {
          "background_save": true
        },
        "id": "UugbMENhzle5",
        "outputId": "595c0970-655d-4b6f-e8e5-009092413025"
      },
      "outputs": [
        {
          "data": {
            "text/html": [
              "\n",
              "  <div id=\"df-8b9a44e0-efb8-46ce-8c87-a09d0d77706e\">\n",
              "    <div class=\"colab-df-container\">\n",
              "      <div>\n",
              "<style scoped>\n",
              "    .dataframe tbody tr th:only-of-type {\n",
              "        vertical-align: middle;\n",
              "    }\n",
              "\n",
              "    .dataframe tbody tr th {\n",
              "        vertical-align: top;\n",
              "    }\n",
              "\n",
              "    .dataframe thead th {\n",
              "        text-align: right;\n",
              "    }\n",
              "</style>\n",
              "<table border=\"1\" class=\"dataframe\">\n",
              "  <thead>\n",
              "    <tr style=\"text-align: right;\">\n",
              "      <th></th>\n",
              "      <th>qid</th>\n",
              "      <th>question_text</th>\n",
              "      <th>target</th>\n",
              "      <th>processed_data</th>\n",
              "    </tr>\n",
              "  </thead>\n",
              "  <tbody>\n",
              "    <tr>\n",
              "      <th>0</th>\n",
              "      <td>a3dee568776c08512c89</td>\n",
              "      <td>What is the role of Lua in Civ4?</td>\n",
              "      <td>0.0</td>\n",
              "      <td>[role, lua, civ]</td>\n",
              "    </tr>\n",
              "    <tr>\n",
              "      <th>1</th>\n",
              "      <td>bdb84f519e7b46e7b7bb</td>\n",
              "      <td>What are important chapters in Kannada for 10 ...</td>\n",
              "      <td>0.0</td>\n",
              "      <td>[important, chapter, kannada, icse]</td>\n",
              "    </tr>\n",
              "    <tr>\n",
              "      <th>2</th>\n",
              "      <td>29c88db470e2eb5c97ad</td>\n",
              "      <td>Do musicians get royalties from YouTube?</td>\n",
              "      <td>0.0</td>\n",
              "      <td>[musician, get, royalty, youtube]</td>\n",
              "    </tr>\n",
              "    <tr>\n",
              "      <th>3</th>\n",
              "      <td>3387d99bf2c3227ae8f1</td>\n",
              "      <td>What is the difference between Scaling Social ...</td>\n",
              "      <td>0.0</td>\n",
              "      <td>[difference, scale, social, enterprise, social...</td>\n",
              "    </tr>\n",
              "    <tr>\n",
              "      <th>4</th>\n",
              "      <td>e79fa5038f765d0f2e7e</td>\n",
              "      <td>Why do elevators go super slow right before th...</td>\n",
              "      <td>0.0</td>\n",
              "      <td>[elevator, go, super, slow, right, door, open]</td>\n",
              "    </tr>\n",
              "  </tbody>\n",
              "</table>\n",
              "</div>\n",
              "      <button class=\"colab-df-convert\" onclick=\"convertToInteractive('df-8b9a44e0-efb8-46ce-8c87-a09d0d77706e')\"\n",
              "              title=\"Convert this dataframe to an interactive table.\"\n",
              "              style=\"display:none;\">\n",
              "        \n",
              "  <svg xmlns=\"http://www.w3.org/2000/svg\" height=\"24px\"viewBox=\"0 0 24 24\"\n",
              "       width=\"24px\">\n",
              "    <path d=\"M0 0h24v24H0V0z\" fill=\"none\"/>\n",
              "    <path d=\"M18.56 5.44l.94 2.06.94-2.06 2.06-.94-2.06-.94-.94-2.06-.94 2.06-2.06.94zm-11 1L8.5 8.5l.94-2.06 2.06-.94-2.06-.94L8.5 2.5l-.94 2.06-2.06.94zm10 10l.94 2.06.94-2.06 2.06-.94-2.06-.94-.94-2.06-.94 2.06-2.06.94z\"/><path d=\"M17.41 7.96l-1.37-1.37c-.4-.4-.92-.59-1.43-.59-.52 0-1.04.2-1.43.59L10.3 9.45l-7.72 7.72c-.78.78-.78 2.05 0 2.83L4 21.41c.39.39.9.59 1.41.59.51 0 1.02-.2 1.41-.59l7.78-7.78 2.81-2.81c.8-.78.8-2.07 0-2.86zM5.41 20L4 18.59l7.72-7.72 1.47 1.35L5.41 20z\"/>\n",
              "  </svg>\n",
              "      </button>\n",
              "      \n",
              "  <style>\n",
              "    .colab-df-container {\n",
              "      display:flex;\n",
              "      flex-wrap:wrap;\n",
              "      gap: 12px;\n",
              "    }\n",
              "\n",
              "    .colab-df-convert {\n",
              "      background-color: #E8F0FE;\n",
              "      border: none;\n",
              "      border-radius: 50%;\n",
              "      cursor: pointer;\n",
              "      display: none;\n",
              "      fill: #1967D2;\n",
              "      height: 32px;\n",
              "      padding: 0 0 0 0;\n",
              "      width: 32px;\n",
              "    }\n",
              "\n",
              "    .colab-df-convert:hover {\n",
              "      background-color: #E2EBFA;\n",
              "      box-shadow: 0px 1px 2px rgba(60, 64, 67, 0.3), 0px 1px 3px 1px rgba(60, 64, 67, 0.15);\n",
              "      fill: #174EA6;\n",
              "    }\n",
              "\n",
              "    [theme=dark] .colab-df-convert {\n",
              "      background-color: #3B4455;\n",
              "      fill: #D2E3FC;\n",
              "    }\n",
              "\n",
              "    [theme=dark] .colab-df-convert:hover {\n",
              "      background-color: #434B5C;\n",
              "      box-shadow: 0px 1px 3px 1px rgba(0, 0, 0, 0.15);\n",
              "      filter: drop-shadow(0px 1px 2px rgba(0, 0, 0, 0.3));\n",
              "      fill: #FFFFFF;\n",
              "    }\n",
              "  </style>\n",
              "\n",
              "      <script>\n",
              "        const buttonEl =\n",
              "          document.querySelector('#df-8b9a44e0-efb8-46ce-8c87-a09d0d77706e button.colab-df-convert');\n",
              "        buttonEl.style.display =\n",
              "          google.colab.kernel.accessAllowed ? 'block' : 'none';\n",
              "\n",
              "        async function convertToInteractive(key) {\n",
              "          const element = document.querySelector('#df-8b9a44e0-efb8-46ce-8c87-a09d0d77706e');\n",
              "          const dataTable =\n",
              "            await google.colab.kernel.invokeFunction('convertToInteractive',\n",
              "                                                     [key], {});\n",
              "          if (!dataTable) return;\n",
              "\n",
              "          const docLinkHtml = 'Like what you see? Visit the ' +\n",
              "            '<a target=\"_blank\" href=https://colab.research.google.com/notebooks/data_table.ipynb>data table notebook</a>'\n",
              "            + ' to learn more about interactive tables.';\n",
              "          element.innerHTML = '';\n",
              "          dataTable['output_type'] = 'display_data';\n",
              "          await google.colab.output.renderOutput(dataTable, element);\n",
              "          const docLink = document.createElement('div');\n",
              "          docLink.innerHTML = docLinkHtml;\n",
              "          element.appendChild(docLink);\n",
              "        }\n",
              "      </script>\n",
              "    </div>\n",
              "  </div>\n",
              "  "
            ],
            "text/plain": [
              "                    qid  ...                                     processed_data\n",
              "0  a3dee568776c08512c89  ...                                   [role, lua, civ]\n",
              "1  bdb84f519e7b46e7b7bb  ...                [important, chapter, kannada, icse]\n",
              "2  29c88db470e2eb5c97ad  ...                  [musician, get, royalty, youtube]\n",
              "3  3387d99bf2c3227ae8f1  ...  [difference, scale, social, enterprise, social...\n",
              "4  e79fa5038f765d0f2e7e  ...     [elevator, go, super, slow, right, door, open]\n",
              "\n",
              "[5 rows x 4 columns]"
            ]
          },
          "execution_count": null,
          "metadata": {},
          "output_type": "execute_result"
        }
      ],
      "source": [
        "full_df.head()"
      ]
    },
    {
      "cell_type": "markdown",
      "metadata": {
        "id": "hvfvEb7t2zQo"
      },
      "source": [
        "# Language Analysis"
      ]
    },
    {
      "cell_type": "markdown",
      "metadata": {
        "id": "HaK33trr3Y6M"
      },
      "source": [
        "### Pycld2"
      ]
    },
    {
      "cell_type": "code",
      "execution_count": null,
      "metadata": {
        "colab": {
          "background_save": true
        },
        "id": "XJz_3aVoKrRo"
      },
      "outputs": [],
      "source": [
        "# !pip install pycld2"
      ]
    },
    {
      "cell_type": "code",
      "execution_count": null,
      "metadata": {
        "colab": {
          "background_save": true
        },
        "id": "8AQ-zfjzKbF5"
      },
      "outputs": [],
      "source": [
        "# import pycld2 as cld2"
      ]
    },
    {
      "cell_type": "code",
      "execution_count": null,
      "metadata": {
        "colab": {
          "background_save": true
        },
        "id": "fQJcXanGMcRa"
      },
      "outputs": [],
      "source": [
        "# def func(sentence):\n",
        "#   try:\n",
        "#     ans = cld2.detect(sentence, returnVectors=True)[3][0][3]\n",
        "#   except:\n",
        "#     print(sentence, len(sentence))\n",
        "#   else:\n",
        "#     return ans\n",
        "# df['language'] = df['expanded_sentence'].apply(lambda sentence: func(sentence))\n",
        "# # df['language'] = df['expanded_sentence'].apply(lambda sentence: cld2.detect(sentence, returnVectors=True)[3][0][3])"
      ]
    },
    {
      "cell_type": "code",
      "execution_count": null,
      "metadata": {
        "colab": {
          "background_save": true
        },
        "id": "49aeo6NWuNcp"
      },
      "outputs": [],
      "source": [
        "# df['language'].value_counts()"
      ]
    },
    {
      "cell_type": "code",
      "execution_count": null,
      "metadata": {
        "colab": {
          "background_save": true
        },
        "id": "-eSukBJqvDWB"
      },
      "outputs": [],
      "source": [
        "# pd.options.display.max_colwidth = 150\n",
        "# x = df[df['language']!='en']\n",
        "# x[x['language']=='un'][['question_text','language']]"
      ]
    },
    {
      "cell_type": "markdown",
      "metadata": {
        "id": "d4T6NW9B3DsU"
      },
      "source": [
        "Pycld2 was giving a lot of unknown 'un' predictions."
      ]
    },
    {
      "cell_type": "markdown",
      "metadata": {
        "id": "Qs7GnDN73d9I"
      },
      "source": [
        "### Langid"
      ]
    },
    {
      "cell_type": "code",
      "execution_count": null,
      "metadata": {
        "colab": {
          "background_save": true
        },
        "id": "4sljAkqRxhUh"
      },
      "outputs": [],
      "source": [
        "# !pip install langid"
      ]
    },
    {
      "cell_type": "code",
      "execution_count": null,
      "metadata": {
        "colab": {
          "background_save": true
        },
        "id": "5Li2YpRBxbxh"
      },
      "outputs": [],
      "source": [
        "# import langid\n",
        "# # langid.classify(text2)\n",
        "# df['language_langid'] = df['expanded_sentence'].apply(lambda sentence: langid.classify(sentence))\n",
        "# df['language_langid'].value_counts()\n",
        "# # x = df[df['language']!='en']\n",
        "# # x[x['language']=='un'][['question_text','language']]"
      ]
    },
    {
      "cell_type": "markdown",
      "metadata": {
        "id": "d3pVB0kO3hC0"
      },
      "source": [
        "### Langdetect"
      ]
    },
    {
      "cell_type": "code",
      "execution_count": null,
      "metadata": {
        "colab": {
          "background_save": true
        },
        "id": "JTqp0fn_KdPT"
      },
      "outputs": [],
      "source": [
        "# !pip install langdetect"
      ]
    },
    {
      "cell_type": "code",
      "execution_count": null,
      "metadata": {
        "colab": {
          "background_save": true
        },
        "id": "_PM2-bJkMJQS"
      },
      "outputs": [],
      "source": [
        "# from langdetect import detect"
      ]
    },
    {
      "cell_type": "code",
      "execution_count": null,
      "metadata": {
        "colab": {
          "background_save": true
        },
        "id": "eTOADteqLLAe"
      },
      "outputs": [],
      "source": [
        "# def func(sentence):\n",
        "#   try:\n",
        "#     ans = detect(sentence)\n",
        "#   except:\n",
        "#     print(sentence)\n",
        "#   else:\n",
        "#     return ans\n",
        "# df['language'] = df['expanded_sentence'].apply(lambda sentence: detect(sentence))"
      ]
    },
    {
      "cell_type": "code",
      "execution_count": null,
      "metadata": {
        "colab": {
          "background_save": true
        },
        "id": "70QlBrtOSvxU"
      },
      "outputs": [],
      "source": [
        "# df['language'].value_counts()"
      ]
    },
    {
      "cell_type": "code",
      "execution_count": null,
      "metadata": {
        "colab": {
          "background_save": true
        },
        "id": "ObFvAQDlS0Aj"
      },
      "outputs": [],
      "source": [
        "# df[df['langs']!='en']"
      ]
    },
    {
      "cell_type": "markdown",
      "metadata": {
        "id": "qKl5hI1_3Sej"
      },
      "source": [
        "langdetect was very slow."
      ]
    },
    {
      "cell_type": "markdown",
      "metadata": {
        "id": "ZcluqFXm3qBv"
      },
      "source": [
        "### Google translate"
      ]
    },
    {
      "cell_type": "code",
      "execution_count": null,
      "metadata": {
        "colab": {
          "background_save": true
        },
        "id": "cUCiRuSgpkjY"
      },
      "outputs": [],
      "source": [
        "# from google_trans_new import google_translator"
      ]
    },
    {
      "cell_type": "code",
      "execution_count": null,
      "metadata": {
        "colab": {
          "background_save": true
        },
        "id": "WutJc-X4pj0D"
      },
      "outputs": [],
      "source": [
        "# translator = google_translator()\n",
        "\n",
        "# df['expanded_sentence'] = df['expanded_sentence'].apply(lambda sentence: translator.translate(sentence,lang_tgt='en'))\n",
        "\n",
        "# df.head()"
      ]
    },
    {
      "cell_type": "markdown",
      "metadata": {
        "id": "ZqdJO3ar360p"
      },
      "source": [
        "google_trans_new has an error in the library, which is still an open issue on Github."
      ]
    },
    {
      "cell_type": "code",
      "execution_count": null,
      "metadata": {
        "colab": {
          "background_save": true
        },
        "id": "GIS-jgFfVsfq"
      },
      "outputs": [],
      "source": [
        "# !pip install googletrans==4.0.0-rc1"
      ]
    },
    {
      "cell_type": "code",
      "execution_count": null,
      "metadata": {
        "colab": {
          "background_save": true
        },
        "id": "7546B2LdVnNH"
      },
      "outputs": [],
      "source": [
        "# from googletrans import Translator\n",
        "# translator = Translator()\n",
        "# # print(translator.detect(sentence).lang)\n",
        "# def func(sentence):\n",
        "#   try:\n",
        "#     ans = translator.detect(sentence)\n",
        "#   except:\n",
        "#     print(sentence)\n",
        "#   else:\n",
        "#     return ans\n",
        "# df['language'] = df['expanded_sentence'].apply(lambda sentence: func(sentence))\n",
        "# # df['language'] = df['expanded_sentence'].apply(lambda sentence: translator.detect(sentence).lang)"
      ]
    },
    {
      "cell_type": "markdown",
      "metadata": {
        "id": "UtU8Q6o74Csp"
      },
      "source": [
        "googletrans was very slow."
      ]
    },
    {
      "cell_type": "markdown",
      "metadata": {
        "id": "8XWyM23URXdJ"
      },
      "source": [
        "### itranslate"
      ]
    },
    {
      "cell_type": "code",
      "execution_count": null,
      "metadata": {
        "colab": {
          "background_save": true
        },
        "id": "WsrbMIuGSAgT"
      },
      "outputs": [],
      "source": [
        "# !pip install itranslate\n",
        "# from itranslate import itranslate as itrans\n",
        "# from textwrap import wrap"
      ]
    },
    {
      "cell_type": "code",
      "execution_count": null,
      "metadata": {
        "colab": {
          "background_save": true
        },
        "id": "Svcve96XK_0w"
      },
      "outputs": [],
      "source": [
        "# def translation(sentence):\n",
        "#   if len(sentence) < 5000:\n",
        "#     return itrans(sentence, to_lang=\"en\")\n",
        "#   else:\n",
        "#     return \" \".join([itrans(elm, to_lang=\"en\") for elm in wrap(sentence,\n",
        "#         width=5000,\n",
        "#         break_long_words=False,\n",
        "#         break_on_hyphens=False,\n",
        "#         drop_whitespace=False,\n",
        "#         replace_whitespace=False,\n",
        "#     )])"
      ]
    },
    {
      "cell_type": "code",
      "execution_count": null,
      "metadata": {
        "colab": {
          "background_save": true
        },
        "id": "2-8cnm6QFFM9"
      },
      "outputs": [],
      "source": [
        "# df['question_text'].apply(lambda sentence: translation(sentence))"
      ]
    },
    {
      "cell_type": "markdown",
      "metadata": {
        "id": "q6EnyXU0RbxG"
      },
      "source": [
        "Blocked IP after a few requests. So couldn't run it, given the size of the dataset."
      ]
    },
    {
      "cell_type": "markdown",
      "metadata": {
        "id": "yJh7dsjtfnec"
      },
      "source": [
        "# Sentiment Analysis"
      ]
    },
    {
      "cell_type": "markdown",
      "metadata": {
        "id": "yYSuKXu4I62i"
      },
      "source": [
        "Sentiment analysis is done to get a sense of the tone/sentiment (from -1 for negative to 1 for positive tone) of the question text. "
      ]
    },
    {
      "cell_type": "code",
      "execution_count": null,
      "metadata": {
        "colab": {
          "background_save": true
        },
        "id": "qYOCM0UqA84L"
      },
      "outputs": [],
      "source": [
        "df['processed_data'] = full_df[0:df.shape[0]]['processed_data']"
      ]
    },
    {
      "cell_type": "code",
      "execution_count": null,
      "metadata": {
        "colab": {
          "background_save": true
        },
        "id": "-VwZwU3MBSaQ",
        "outputId": "5ad31f80-5e41-4532-a063-c0231f15480f"
      },
      "outputs": [
        {
          "data": {
            "text/html": [
              "\n",
              "  <div id=\"df-ed414e21-da92-413b-b354-03b4c72c2ad1\">\n",
              "    <div class=\"colab-df-container\">\n",
              "      <div>\n",
              "<style scoped>\n",
              "    .dataframe tbody tr th:only-of-type {\n",
              "        vertical-align: middle;\n",
              "    }\n",
              "\n",
              "    .dataframe tbody tr th {\n",
              "        vertical-align: top;\n",
              "    }\n",
              "\n",
              "    .dataframe thead th {\n",
              "        text-align: right;\n",
              "    }\n",
              "</style>\n",
              "<table border=\"1\" class=\"dataframe\">\n",
              "  <thead>\n",
              "    <tr style=\"text-align: right;\">\n",
              "      <th></th>\n",
              "      <th>qid</th>\n",
              "      <th>question_text</th>\n",
              "      <th>target</th>\n",
              "      <th>processed_data</th>\n",
              "    </tr>\n",
              "  </thead>\n",
              "  <tbody>\n",
              "    <tr>\n",
              "      <th>0</th>\n",
              "      <td>a3dee568776c08512c89</td>\n",
              "      <td>What is the role of Lua in Civ4?</td>\n",
              "      <td>0</td>\n",
              "      <td>[role, lua, civ]</td>\n",
              "    </tr>\n",
              "    <tr>\n",
              "      <th>1</th>\n",
              "      <td>bdb84f519e7b46e7b7bb</td>\n",
              "      <td>What are important chapters in Kannada for 10 ...</td>\n",
              "      <td>0</td>\n",
              "      <td>[important, chapter, kannada, icse]</td>\n",
              "    </tr>\n",
              "    <tr>\n",
              "      <th>2</th>\n",
              "      <td>29c88db470e2eb5c97ad</td>\n",
              "      <td>Do musicians get royalties from YouTube?</td>\n",
              "      <td>0</td>\n",
              "      <td>[musician, get, royalty, youtube]</td>\n",
              "    </tr>\n",
              "    <tr>\n",
              "      <th>3</th>\n",
              "      <td>3387d99bf2c3227ae8f1</td>\n",
              "      <td>What is the difference between Scaling Social ...</td>\n",
              "      <td>0</td>\n",
              "      <td>[difference, scale, social, enterprise, social...</td>\n",
              "    </tr>\n",
              "    <tr>\n",
              "      <th>4</th>\n",
              "      <td>e79fa5038f765d0f2e7e</td>\n",
              "      <td>Why do elevators go super slow right before th...</td>\n",
              "      <td>0</td>\n",
              "      <td>[elevator, go, super, slow, right, door, open]</td>\n",
              "    </tr>\n",
              "  </tbody>\n",
              "</table>\n",
              "</div>\n",
              "      <button class=\"colab-df-convert\" onclick=\"convertToInteractive('df-ed414e21-da92-413b-b354-03b4c72c2ad1')\"\n",
              "              title=\"Convert this dataframe to an interactive table.\"\n",
              "              style=\"display:none;\">\n",
              "        \n",
              "  <svg xmlns=\"http://www.w3.org/2000/svg\" height=\"24px\"viewBox=\"0 0 24 24\"\n",
              "       width=\"24px\">\n",
              "    <path d=\"M0 0h24v24H0V0z\" fill=\"none\"/>\n",
              "    <path d=\"M18.56 5.44l.94 2.06.94-2.06 2.06-.94-2.06-.94-.94-2.06-.94 2.06-2.06.94zm-11 1L8.5 8.5l.94-2.06 2.06-.94-2.06-.94L8.5 2.5l-.94 2.06-2.06.94zm10 10l.94 2.06.94-2.06 2.06-.94-2.06-.94-.94-2.06-.94 2.06-2.06.94z\"/><path d=\"M17.41 7.96l-1.37-1.37c-.4-.4-.92-.59-1.43-.59-.52 0-1.04.2-1.43.59L10.3 9.45l-7.72 7.72c-.78.78-.78 2.05 0 2.83L4 21.41c.39.39.9.59 1.41.59.51 0 1.02-.2 1.41-.59l7.78-7.78 2.81-2.81c.8-.78.8-2.07 0-2.86zM5.41 20L4 18.59l7.72-7.72 1.47 1.35L5.41 20z\"/>\n",
              "  </svg>\n",
              "      </button>\n",
              "      \n",
              "  <style>\n",
              "    .colab-df-container {\n",
              "      display:flex;\n",
              "      flex-wrap:wrap;\n",
              "      gap: 12px;\n",
              "    }\n",
              "\n",
              "    .colab-df-convert {\n",
              "      background-color: #E8F0FE;\n",
              "      border: none;\n",
              "      border-radius: 50%;\n",
              "      cursor: pointer;\n",
              "      display: none;\n",
              "      fill: #1967D2;\n",
              "      height: 32px;\n",
              "      padding: 0 0 0 0;\n",
              "      width: 32px;\n",
              "    }\n",
              "\n",
              "    .colab-df-convert:hover {\n",
              "      background-color: #E2EBFA;\n",
              "      box-shadow: 0px 1px 2px rgba(60, 64, 67, 0.3), 0px 1px 3px 1px rgba(60, 64, 67, 0.15);\n",
              "      fill: #174EA6;\n",
              "    }\n",
              "\n",
              "    [theme=dark] .colab-df-convert {\n",
              "      background-color: #3B4455;\n",
              "      fill: #D2E3FC;\n",
              "    }\n",
              "\n",
              "    [theme=dark] .colab-df-convert:hover {\n",
              "      background-color: #434B5C;\n",
              "      box-shadow: 0px 1px 3px 1px rgba(0, 0, 0, 0.15);\n",
              "      filter: drop-shadow(0px 1px 2px rgba(0, 0, 0, 0.3));\n",
              "      fill: #FFFFFF;\n",
              "    }\n",
              "  </style>\n",
              "\n",
              "      <script>\n",
              "        const buttonEl =\n",
              "          document.querySelector('#df-ed414e21-da92-413b-b354-03b4c72c2ad1 button.colab-df-convert');\n",
              "        buttonEl.style.display =\n",
              "          google.colab.kernel.accessAllowed ? 'block' : 'none';\n",
              "\n",
              "        async function convertToInteractive(key) {\n",
              "          const element = document.querySelector('#df-ed414e21-da92-413b-b354-03b4c72c2ad1');\n",
              "          const dataTable =\n",
              "            await google.colab.kernel.invokeFunction('convertToInteractive',\n",
              "                                                     [key], {});\n",
              "          if (!dataTable) return;\n",
              "\n",
              "          const docLinkHtml = 'Like what you see? Visit the ' +\n",
              "            '<a target=\"_blank\" href=https://colab.research.google.com/notebooks/data_table.ipynb>data table notebook</a>'\n",
              "            + ' to learn more about interactive tables.';\n",
              "          element.innerHTML = '';\n",
              "          dataTable['output_type'] = 'display_data';\n",
              "          await google.colab.output.renderOutput(dataTable, element);\n",
              "          const docLink = document.createElement('div');\n",
              "          docLink.innerHTML = docLinkHtml;\n",
              "          element.appendChild(docLink);\n",
              "        }\n",
              "      </script>\n",
              "    </div>\n",
              "  </div>\n",
              "  "
            ],
            "text/plain": [
              "                    qid  ...                                     processed_data\n",
              "0  a3dee568776c08512c89  ...                                   [role, lua, civ]\n",
              "1  bdb84f519e7b46e7b7bb  ...                [important, chapter, kannada, icse]\n",
              "2  29c88db470e2eb5c97ad  ...                  [musician, get, royalty, youtube]\n",
              "3  3387d99bf2c3227ae8f1  ...  [difference, scale, social, enterprise, social...\n",
              "4  e79fa5038f765d0f2e7e  ...     [elevator, go, super, slow, right, door, open]\n",
              "\n",
              "[5 rows x 4 columns]"
            ]
          },
          "execution_count": null,
          "metadata": {},
          "output_type": "execute_result"
        }
      ],
      "source": [
        "df.head()"
      ]
    },
    {
      "cell_type": "code",
      "execution_count": null,
      "metadata": {
        "colab": {
          "background_save": true
        },
        "id": "2sE7rbQ0flto"
      },
      "outputs": [],
      "source": [
        "def sentiment_analysis(data_column):\n",
        "  df['lemmatized_join'] = [' '.join(map(str,words)) for words in data_column]\n",
        "  lemmatized_join = df['lemmatized_join']\n",
        "  df.drop('lemmatized_join', axis = 1, inplace=True)\n",
        "  return lemmatized_join.apply(lambda sentence: TextBlob(sentence).sentiment.polarity)"
      ]
    },
    {
      "cell_type": "code",
      "execution_count": null,
      "metadata": {
        "colab": {
          "background_save": true
        },
        "id": "rVNT4y04gS4z"
      },
      "outputs": [],
      "source": [
        "df['sentiment'] = sentiment_analysis(df['processed_data'])"
      ]
    },
    {
      "cell_type": "code",
      "execution_count": null,
      "metadata": {
        "colab": {
          "background_save": true
        },
        "id": "zpx4DT5RiYNh",
        "outputId": "ed39e3b0-80aa-411a-8ae4-20422e9b8773"
      },
      "outputs": [
        {
          "data": {
            "text/html": [
              "\n",
              "  <div id=\"df-94ef97e2-5c23-45a1-a160-e7cc90714944\">\n",
              "    <div class=\"colab-df-container\">\n",
              "      <div>\n",
              "<style scoped>\n",
              "    .dataframe tbody tr th:only-of-type {\n",
              "        vertical-align: middle;\n",
              "    }\n",
              "\n",
              "    .dataframe tbody tr th {\n",
              "        vertical-align: top;\n",
              "    }\n",
              "\n",
              "    .dataframe thead th {\n",
              "        text-align: right;\n",
              "    }\n",
              "</style>\n",
              "<table border=\"1\" class=\"dataframe\">\n",
              "  <thead>\n",
              "    <tr style=\"text-align: right;\">\n",
              "      <th></th>\n",
              "      <th>qid</th>\n",
              "      <th>question_text</th>\n",
              "      <th>target</th>\n",
              "      <th>processed_data</th>\n",
              "      <th>sentiment</th>\n",
              "    </tr>\n",
              "  </thead>\n",
              "  <tbody>\n",
              "    <tr>\n",
              "      <th>0</th>\n",
              "      <td>a3dee568776c08512c89</td>\n",
              "      <td>What is the role of Lua in Civ4?</td>\n",
              "      <td>0</td>\n",
              "      <td>[role, lua, civ]</td>\n",
              "      <td>0.000000</td>\n",
              "    </tr>\n",
              "    <tr>\n",
              "      <th>1</th>\n",
              "      <td>bdb84f519e7b46e7b7bb</td>\n",
              "      <td>What are important chapters in Kannada for 10 ...</td>\n",
              "      <td>0</td>\n",
              "      <td>[important, chapter, kannada, icse]</td>\n",
              "      <td>0.400000</td>\n",
              "    </tr>\n",
              "    <tr>\n",
              "      <th>2</th>\n",
              "      <td>29c88db470e2eb5c97ad</td>\n",
              "      <td>Do musicians get royalties from YouTube?</td>\n",
              "      <td>0</td>\n",
              "      <td>[musician, get, royalty, youtube]</td>\n",
              "      <td>0.000000</td>\n",
              "    </tr>\n",
              "    <tr>\n",
              "      <th>3</th>\n",
              "      <td>3387d99bf2c3227ae8f1</td>\n",
              "      <td>What is the difference between Scaling Social ...</td>\n",
              "      <td>0</td>\n",
              "      <td>[difference, scale, social, enterprise, social...</td>\n",
              "      <td>0.033333</td>\n",
              "    </tr>\n",
              "    <tr>\n",
              "      <th>4</th>\n",
              "      <td>e79fa5038f765d0f2e7e</td>\n",
              "      <td>Why do elevators go super slow right before th...</td>\n",
              "      <td>0</td>\n",
              "      <td>[elevator, go, super, slow, right, door, open]</td>\n",
              "      <td>0.079762</td>\n",
              "    </tr>\n",
              "  </tbody>\n",
              "</table>\n",
              "</div>\n",
              "      <button class=\"colab-df-convert\" onclick=\"convertToInteractive('df-94ef97e2-5c23-45a1-a160-e7cc90714944')\"\n",
              "              title=\"Convert this dataframe to an interactive table.\"\n",
              "              style=\"display:none;\">\n",
              "        \n",
              "  <svg xmlns=\"http://www.w3.org/2000/svg\" height=\"24px\"viewBox=\"0 0 24 24\"\n",
              "       width=\"24px\">\n",
              "    <path d=\"M0 0h24v24H0V0z\" fill=\"none\"/>\n",
              "    <path d=\"M18.56 5.44l.94 2.06.94-2.06 2.06-.94-2.06-.94-.94-2.06-.94 2.06-2.06.94zm-11 1L8.5 8.5l.94-2.06 2.06-.94-2.06-.94L8.5 2.5l-.94 2.06-2.06.94zm10 10l.94 2.06.94-2.06 2.06-.94-2.06-.94-.94-2.06-.94 2.06-2.06.94z\"/><path d=\"M17.41 7.96l-1.37-1.37c-.4-.4-.92-.59-1.43-.59-.52 0-1.04.2-1.43.59L10.3 9.45l-7.72 7.72c-.78.78-.78 2.05 0 2.83L4 21.41c.39.39.9.59 1.41.59.51 0 1.02-.2 1.41-.59l7.78-7.78 2.81-2.81c.8-.78.8-2.07 0-2.86zM5.41 20L4 18.59l7.72-7.72 1.47 1.35L5.41 20z\"/>\n",
              "  </svg>\n",
              "      </button>\n",
              "      \n",
              "  <style>\n",
              "    .colab-df-container {\n",
              "      display:flex;\n",
              "      flex-wrap:wrap;\n",
              "      gap: 12px;\n",
              "    }\n",
              "\n",
              "    .colab-df-convert {\n",
              "      background-color: #E8F0FE;\n",
              "      border: none;\n",
              "      border-radius: 50%;\n",
              "      cursor: pointer;\n",
              "      display: none;\n",
              "      fill: #1967D2;\n",
              "      height: 32px;\n",
              "      padding: 0 0 0 0;\n",
              "      width: 32px;\n",
              "    }\n",
              "\n",
              "    .colab-df-convert:hover {\n",
              "      background-color: #E2EBFA;\n",
              "      box-shadow: 0px 1px 2px rgba(60, 64, 67, 0.3), 0px 1px 3px 1px rgba(60, 64, 67, 0.15);\n",
              "      fill: #174EA6;\n",
              "    }\n",
              "\n",
              "    [theme=dark] .colab-df-convert {\n",
              "      background-color: #3B4455;\n",
              "      fill: #D2E3FC;\n",
              "    }\n",
              "\n",
              "    [theme=dark] .colab-df-convert:hover {\n",
              "      background-color: #434B5C;\n",
              "      box-shadow: 0px 1px 3px 1px rgba(0, 0, 0, 0.15);\n",
              "      filter: drop-shadow(0px 1px 2px rgba(0, 0, 0, 0.3));\n",
              "      fill: #FFFFFF;\n",
              "    }\n",
              "  </style>\n",
              "\n",
              "      <script>\n",
              "        const buttonEl =\n",
              "          document.querySelector('#df-94ef97e2-5c23-45a1-a160-e7cc90714944 button.colab-df-convert');\n",
              "        buttonEl.style.display =\n",
              "          google.colab.kernel.accessAllowed ? 'block' : 'none';\n",
              "\n",
              "        async function convertToInteractive(key) {\n",
              "          const element = document.querySelector('#df-94ef97e2-5c23-45a1-a160-e7cc90714944');\n",
              "          const dataTable =\n",
              "            await google.colab.kernel.invokeFunction('convertToInteractive',\n",
              "                                                     [key], {});\n",
              "          if (!dataTable) return;\n",
              "\n",
              "          const docLinkHtml = 'Like what you see? Visit the ' +\n",
              "            '<a target=\"_blank\" href=https://colab.research.google.com/notebooks/data_table.ipynb>data table notebook</a>'\n",
              "            + ' to learn more about interactive tables.';\n",
              "          element.innerHTML = '';\n",
              "          dataTable['output_type'] = 'display_data';\n",
              "          await google.colab.output.renderOutput(dataTable, element);\n",
              "          const docLink = document.createElement('div');\n",
              "          docLink.innerHTML = docLinkHtml;\n",
              "          element.appendChild(docLink);\n",
              "        }\n",
              "      </script>\n",
              "    </div>\n",
              "  </div>\n",
              "  "
            ],
            "text/plain": [
              "                    qid  ... sentiment\n",
              "0  a3dee568776c08512c89  ...  0.000000\n",
              "1  bdb84f519e7b46e7b7bb  ...  0.400000\n",
              "2  29c88db470e2eb5c97ad  ...  0.000000\n",
              "3  3387d99bf2c3227ae8f1  ...  0.033333\n",
              "4  e79fa5038f765d0f2e7e  ...  0.079762\n",
              "\n",
              "[5 rows x 5 columns]"
            ]
          },
          "execution_count": null,
          "metadata": {},
          "output_type": "execute_result"
        }
      ],
      "source": [
        "df.head()"
      ]
    },
    {
      "cell_type": "code",
      "execution_count": null,
      "metadata": {
        "colab": {
          "background_save": true
        },
        "id": "fR6ImsDvgQkx",
        "outputId": "65d3be0b-4286-4a83-fa2f-1213918c96b6"
      },
      "outputs": [
        {
          "data": {
            "image/png": "[encoded data removed]",
            "text/plain": [
              "<Figure size 432x288 with 1 Axes>"
            ]
          },
          "metadata": {},
          "output_type": "display_data"
        }
      ],
      "source": [
        "plt.xlabel('Sentiment')\n",
        "plt.ylabel('Frequency')\n",
        "plt.hist(df['sentiment'], bins=10)\n",
        "plt.title('Sentiment Distribution')\n",
        "plt.show()"
      ]
    },
    {
      "cell_type": "markdown",
      "metadata": {
        "id": "9Dzp6TnYDa83"
      },
      "source": [
        "Good sentiment:"
      ]
    },
    {
      "cell_type": "code",
      "execution_count": null,
      "metadata": {
        "colab": {
          "background_save": true
        },
        "id": "l7T6BSi0jl9-",
        "outputId": "c2c10a20-e4c3-4f80-da5c-c6e9f489c52f"
      },
      "outputs": [
        {
          "data": {
            "text/plain": [
              "558453"
            ]
          },
          "execution_count": null,
          "metadata": {},
          "output_type": "execute_result"
        }
      ],
      "source": [
        "len(df[df['sentiment']>=0])"
      ]
    },
    {
      "cell_type": "code",
      "execution_count": null,
      "metadata": {
        "colab": {
          "background_save": true
        },
        "id": "m_EXh8TYlDen",
        "outputId": "61851c74-805a-4eab-c20a-1c4a48210cf9"
      },
      "outputs": [
        {
          "data": {
            "text/plain": [
              "0    612656\n",
              "1     40405\n",
              "Name: target, dtype: int64"
            ]
          },
          "execution_count": null,
          "metadata": {},
          "output_type": "execute_result"
        }
      ],
      "source": [
        "df['target'].value_counts()"
      ]
    },
    {
      "cell_type": "code",
      "execution_count": null,
      "metadata": {
        "colab": {
          "background_save": true
        },
        "id": "C87Zo6TVlSzZ",
        "outputId": "0c8ae7e5-cb64-4e2b-ba61-56a888535109"
      },
      "outputs": [
        {
          "data": {
            "text/html": [
              "\n",
              "  <div id=\"df-cbb0b088-b312-4b5f-95b7-0eeb92c55293\">\n",
              "    <div class=\"colab-df-container\">\n",
              "      <div>\n",
              "<style scoped>\n",
              "    .dataframe tbody tr th:only-of-type {\n",
              "        vertical-align: middle;\n",
              "    }\n",
              "\n",
              "    .dataframe tbody tr th {\n",
              "        vertical-align: top;\n",
              "    }\n",
              "\n",
              "    .dataframe thead th {\n",
              "        text-align: right;\n",
              "    }\n",
              "</style>\n",
              "<table border=\"1\" class=\"dataframe\">\n",
              "  <thead>\n",
              "    <tr style=\"text-align: right;\">\n",
              "      <th></th>\n",
              "      <th>qid</th>\n",
              "      <th>question_text</th>\n",
              "      <th>target</th>\n",
              "      <th>processed_data</th>\n",
              "      <th>sentiment</th>\n",
              "    </tr>\n",
              "  </thead>\n",
              "  <tbody>\n",
              "    <tr>\n",
              "      <th>16</th>\n",
              "      <td>19af3f158b9e37398746</td>\n",
              "      <td>What stupid things do Indians do when in your ...</td>\n",
              "      <td>1</td>\n",
              "      <td>[stupid, thing, indian, country]</td>\n",
              "      <td>-0.800000</td>\n",
              "    </tr>\n",
              "    <tr>\n",
              "      <th>135</th>\n",
              "      <td>bc8ab20fb3b33a255abf</td>\n",
              "      <td>Why are men always playing head games acting l...</td>\n",
              "      <td>1</td>\n",
              "      <td>[men, always, play, head, game, act, like, kno...</td>\n",
              "      <td>-0.200000</td>\n",
              "    </tr>\n",
              "    <tr>\n",
              "      <th>139</th>\n",
              "      <td>7e089b032ceb09814806</td>\n",
              "      <td>Why do Americans seem to have such a negative ...</td>\n",
              "      <td>1</td>\n",
              "      <td>[american, seem, negative, view, canadian, obs...</td>\n",
              "      <td>-0.100000</td>\n",
              "    </tr>\n",
              "    <tr>\n",
              "      <th>190</th>\n",
              "      <td>9fb43b29eec4d4d9999f</td>\n",
              "      <td>Why don't white hookers like black guys?</td>\n",
              "      <td>1</td>\n",
              "      <td>[white, hooker, like, black, guy]</td>\n",
              "      <td>-0.083333</td>\n",
              "    </tr>\n",
              "    <tr>\n",
              "      <th>515</th>\n",
              "      <td>ae4dfd5efe63733ad13e</td>\n",
              "      <td>Why do gun enthusiasts sound like morons when ...</td>\n",
              "      <td>1</td>\n",
              "      <td>[gun, enthusiast, sound, like, moron, talk, gu...</td>\n",
              "      <td>-0.200000</td>\n",
              "    </tr>\n",
              "  </tbody>\n",
              "</table>\n",
              "</div>\n",
              "      <button class=\"colab-df-convert\" onclick=\"convertToInteractive('df-cbb0b088-b312-4b5f-95b7-0eeb92c55293')\"\n",
              "              title=\"Convert this dataframe to an interactive table.\"\n",
              "              style=\"display:none;\">\n",
              "        \n",
              "  <svg xmlns=\"http://www.w3.org/2000/svg\" height=\"24px\"viewBox=\"0 0 24 24\"\n",
              "       width=\"24px\">\n",
              "    <path d=\"M0 0h24v24H0V0z\" fill=\"none\"/>\n",
              "    <path d=\"M18.56 5.44l.94 2.06.94-2.06 2.06-.94-2.06-.94-.94-2.06-.94 2.06-2.06.94zm-11 1L8.5 8.5l.94-2.06 2.06-.94-2.06-.94L8.5 2.5l-.94 2.06-2.06.94zm10 10l.94 2.06.94-2.06 2.06-.94-2.06-.94-.94-2.06-.94 2.06-2.06.94z\"/><path d=\"M17.41 7.96l-1.37-1.37c-.4-.4-.92-.59-1.43-.59-.52 0-1.04.2-1.43.59L10.3 9.45l-7.72 7.72c-.78.78-.78 2.05 0 2.83L4 21.41c.39.39.9.59 1.41.59.51 0 1.02-.2 1.41-.59l7.78-7.78 2.81-2.81c.8-.78.8-2.07 0-2.86zM5.41 20L4 18.59l7.72-7.72 1.47 1.35L5.41 20z\"/>\n",
              "  </svg>\n",
              "      </button>\n",
              "      \n",
              "  <style>\n",
              "    .colab-df-container {\n",
              "      display:flex;\n",
              "      flex-wrap:wrap;\n",
              "      gap: 12px;\n",
              "    }\n",
              "\n",
              "    .colab-df-convert {\n",
              "      background-color: #E8F0FE;\n",
              "      border: none;\n",
              "      border-radius: 50%;\n",
              "      cursor: pointer;\n",
              "      display: none;\n",
              "      fill: #1967D2;\n",
              "      height: 32px;\n",
              "      padding: 0 0 0 0;\n",
              "      width: 32px;\n",
              "    }\n",
              "\n",
              "    .colab-df-convert:hover {\n",
              "      background-color: #E2EBFA;\n",
              "      box-shadow: 0px 1px 2px rgba(60, 64, 67, 0.3), 0px 1px 3px 1px rgba(60, 64, 67, 0.15);\n",
              "      fill: #174EA6;\n",
              "    }\n",
              "\n",
              "    [theme=dark] .colab-df-convert {\n",
              "      background-color: #3B4455;\n",
              "      fill: #D2E3FC;\n",
              "    }\n",
              "\n",
              "    [theme=dark] .colab-df-convert:hover {\n",
              "      background-color: #434B5C;\n",
              "      box-shadow: 0px 1px 3px 1px rgba(0, 0, 0, 0.15);\n",
              "      filter: drop-shadow(0px 1px 2px rgba(0, 0, 0, 0.3));\n",
              "      fill: #FFFFFF;\n",
              "    }\n",
              "  </style>\n",
              "\n",
              "      <script>\n",
              "        const buttonEl =\n",
              "          document.querySelector('#df-cbb0b088-b312-4b5f-95b7-0eeb92c55293 button.colab-df-convert');\n",
              "        buttonEl.style.display =\n",
              "          google.colab.kernel.accessAllowed ? 'block' : 'none';\n",
              "\n",
              "        async function convertToInteractive(key) {\n",
              "          const element = document.querySelector('#df-cbb0b088-b312-4b5f-95b7-0eeb92c55293');\n",
              "          const dataTable =\n",
              "            await google.colab.kernel.invokeFunction('convertToInteractive',\n",
              "                                                     [key], {});\n",
              "          if (!dataTable) return;\n",
              "\n",
              "          const docLinkHtml = 'Like what you see? Visit the ' +\n",
              "            '<a target=\"_blank\" href=https://colab.research.google.com/notebooks/data_table.ipynb>data table notebook</a>'\n",
              "            + ' to learn more about interactive tables.';\n",
              "          element.innerHTML = '';\n",
              "          dataTable['output_type'] = 'display_data';\n",
              "          await google.colab.output.renderOutput(dataTable, element);\n",
              "          const docLink = document.createElement('div');\n",
              "          docLink.innerHTML = docLinkHtml;\n",
              "          element.appendChild(docLink);\n",
              "        }\n",
              "      </script>\n",
              "    </div>\n",
              "  </div>\n",
              "  "
            ],
            "text/plain": [
              "                      qid  ... sentiment\n",
              "16   19af3f158b9e37398746  ... -0.800000\n",
              "135  bc8ab20fb3b33a255abf  ... -0.200000\n",
              "139  7e089b032ceb09814806  ... -0.100000\n",
              "190  9fb43b29eec4d4d9999f  ... -0.083333\n",
              "515  ae4dfd5efe63733ad13e  ... -0.200000\n",
              "\n",
              "[5 rows x 5 columns]"
            ]
          },
          "execution_count": null,
          "metadata": {},
          "output_type": "execute_result"
        }
      ],
      "source": [
        "low_sentiment = df[df['sentiment']<0]\n",
        "low_sentiment[low_sentiment['target']==1].head()"
      ]
    },
    {
      "cell_type": "code",
      "execution_count": null,
      "metadata": {
        "colab": {
          "background_save": true
        },
        "id": "jmbEe3bblobI",
        "outputId": "77fdd641-96d5-41bc-c458-6a0c93d2453a"
      },
      "outputs": [
        {
          "data": {
            "image/png": "[encoded data removed]",
            "text/plain": [
              "<Figure size 432x288 with 1 Axes>"
            ]
          },
          "metadata": {},
          "output_type": "display_data"
        }
      ],
      "source": [
        "polarity_avg = df.groupby('target')['sentiment'].mean().plot(kind='bar')\n",
        "plt.title('Average sentiment per target')\n",
        "plt.show()"
      ]
    },
    {
      "cell_type": "code",
      "execution_count": null,
      "metadata": {
        "colab": {
          "background_save": true
        },
        "id": "gtZ7Kc4bm2KX",
        "outputId": "911f6177-eada-4767-eb46-7e760279e476"
      },
      "outputs": [
        {
          "data": {
            "image/png": "[encoded data removed]",
            "text/plain": [
              "<Figure size 1080x360 with 1 Axes>"
            ]
          },
          "metadata": {},
          "output_type": "display_data"
        }
      ],
      "source": [
        "plt.figure(figsize=(15,5))\n",
        "plt.hist(df[df['target']==0]['sentiment'], bins=10, label='Sentiment distribution for target 0')\n",
        "plt.hist(df[df['target']==1]['sentiment'], bins=10, label='Sentiment distribution for target 1')\n",
        "plt.legend()\n",
        "plt.show()"
      ]
    },
    {
      "cell_type": "code",
      "execution_count": null,
      "metadata": {
        "colab": {
          "background_save": true
        },
        "id": "jtHlW-pyvPAb"
      },
      "outputs": [],
      "source": [
        "# df['lemma_str'] = [' '.join(map(str,l)) for l in df['data_to_work_with']]\n",
        "# df['word_count'] = df['data_to_work_with'].apply(lambda x: len(str(x).split()))\n",
        "# df['review_len'] = df['lemma_str'].astype(str).apply(len)"
      ]
    },
    {
      "cell_type": "code",
      "execution_count": null,
      "metadata": {
        "colab": {
          "background_save": true
        },
        "id": "KpY4XRVAvXk6",
        "outputId": "ef9feaaf-5ab4-4f9f-fd7f-b427034665d4"
      },
      "outputs": [
        {
          "data": {
            "text/html": [
              "\n",
              "  <div id=\"df-ff3def49-5814-4ecf-bbcf-82eef1bb5511\">\n",
              "    <div class=\"colab-df-container\">\n",
              "      <div>\n",
              "<style scoped>\n",
              "    .dataframe tbody tr th:only-of-type {\n",
              "        vertical-align: middle;\n",
              "    }\n",
              "\n",
              "    .dataframe tbody tr th {\n",
              "        vertical-align: top;\n",
              "    }\n",
              "\n",
              "    .dataframe thead th {\n",
              "        text-align: right;\n",
              "    }\n",
              "</style>\n",
              "<table border=\"1\" class=\"dataframe\">\n",
              "  <thead>\n",
              "    <tr style=\"text-align: right;\">\n",
              "      <th></th>\n",
              "      <th>qid</th>\n",
              "      <th>question_text</th>\n",
              "      <th>target</th>\n",
              "      <th>processed_data</th>\n",
              "      <th>sentiment</th>\n",
              "    </tr>\n",
              "  </thead>\n",
              "  <tbody>\n",
              "    <tr>\n",
              "      <th>0</th>\n",
              "      <td>a3dee568776c08512c89</td>\n",
              "      <td>What is the role of Lua in Civ4?</td>\n",
              "      <td>0</td>\n",
              "      <td>[role, lua, civ]</td>\n",
              "      <td>0.000000</td>\n",
              "    </tr>\n",
              "    <tr>\n",
              "      <th>1</th>\n",
              "      <td>bdb84f519e7b46e7b7bb</td>\n",
              "      <td>What are important chapters in Kannada for 10 ...</td>\n",
              "      <td>0</td>\n",
              "      <td>[important, chapter, kannada, icse]</td>\n",
              "      <td>0.400000</td>\n",
              "    </tr>\n",
              "    <tr>\n",
              "      <th>2</th>\n",
              "      <td>29c88db470e2eb5c97ad</td>\n",
              "      <td>Do musicians get royalties from YouTube?</td>\n",
              "      <td>0</td>\n",
              "      <td>[musician, get, royalty, youtube]</td>\n",
              "      <td>0.000000</td>\n",
              "    </tr>\n",
              "    <tr>\n",
              "      <th>3</th>\n",
              "      <td>3387d99bf2c3227ae8f1</td>\n",
              "      <td>What is the difference between Scaling Social ...</td>\n",
              "      <td>0</td>\n",
              "      <td>[difference, scale, social, enterprise, social...</td>\n",
              "      <td>0.033333</td>\n",
              "    </tr>\n",
              "    <tr>\n",
              "      <th>4</th>\n",
              "      <td>e79fa5038f765d0f2e7e</td>\n",
              "      <td>Why do elevators go super slow right before th...</td>\n",
              "      <td>0</td>\n",
              "      <td>[elevator, go, super, slow, right, door, open]</td>\n",
              "      <td>0.079762</td>\n",
              "    </tr>\n",
              "  </tbody>\n",
              "</table>\n",
              "</div>\n",
              "      <button class=\"colab-df-convert\" onclick=\"convertToInteractive('df-ff3def49-5814-4ecf-bbcf-82eef1bb5511')\"\n",
              "              title=\"Convert this dataframe to an interactive table.\"\n",
              "              style=\"display:none;\">\n",
              "        \n",
              "  <svg xmlns=\"http://www.w3.org/2000/svg\" height=\"24px\"viewBox=\"0 0 24 24\"\n",
              "       width=\"24px\">\n",
              "    <path d=\"M0 0h24v24H0V0z\" fill=\"none\"/>\n",
              "    <path d=\"M18.56 5.44l.94 2.06.94-2.06 2.06-.94-2.06-.94-.94-2.06-.94 2.06-2.06.94zm-11 1L8.5 8.5l.94-2.06 2.06-.94-2.06-.94L8.5 2.5l-.94 2.06-2.06.94zm10 10l.94 2.06.94-2.06 2.06-.94-2.06-.94-.94-2.06-.94 2.06-2.06.94z\"/><path d=\"M17.41 7.96l-1.37-1.37c-.4-.4-.92-.59-1.43-.59-.52 0-1.04.2-1.43.59L10.3 9.45l-7.72 7.72c-.78.78-.78 2.05 0 2.83L4 21.41c.39.39.9.59 1.41.59.51 0 1.02-.2 1.41-.59l7.78-7.78 2.81-2.81c.8-.78.8-2.07 0-2.86zM5.41 20L4 18.59l7.72-7.72 1.47 1.35L5.41 20z\"/>\n",
              "  </svg>\n",
              "      </button>\n",
              "      \n",
              "  <style>\n",
              "    .colab-df-container {\n",
              "      display:flex;\n",
              "      flex-wrap:wrap;\n",
              "      gap: 12px;\n",
              "    }\n",
              "\n",
              "    .colab-df-convert {\n",
              "      background-color: #E8F0FE;\n",
              "      border: none;\n",
              "      border-radius: 50%;\n",
              "      cursor: pointer;\n",
              "      display: none;\n",
              "      fill: #1967D2;\n",
              "      height: 32px;\n",
              "      padding: 0 0 0 0;\n",
              "      width: 32px;\n",
              "    }\n",
              "\n",
              "    .colab-df-convert:hover {\n",
              "      background-color: #E2EBFA;\n",
              "      box-shadow: 0px 1px 2px rgba(60, 64, 67, 0.3), 0px 1px 3px 1px rgba(60, 64, 67, 0.15);\n",
              "      fill: #174EA6;\n",
              "    }\n",
              "\n",
              "    [theme=dark] .colab-df-convert {\n",
              "      background-color: #3B4455;\n",
              "      fill: #D2E3FC;\n",
              "    }\n",
              "\n",
              "    [theme=dark] .colab-df-convert:hover {\n",
              "      background-color: #434B5C;\n",
              "      box-shadow: 0px 1px 3px 1px rgba(0, 0, 0, 0.15);\n",
              "      filter: drop-shadow(0px 1px 2px rgba(0, 0, 0, 0.3));\n",
              "      fill: #FFFFFF;\n",
              "    }\n",
              "  </style>\n",
              "\n",
              "      <script>\n",
              "        const buttonEl =\n",
              "          document.querySelector('#df-ff3def49-5814-4ecf-bbcf-82eef1bb5511 button.colab-df-convert');\n",
              "        buttonEl.style.display =\n",
              "          google.colab.kernel.accessAllowed ? 'block' : 'none';\n",
              "\n",
              "        async function convertToInteractive(key) {\n",
              "          const element = document.querySelector('#df-ff3def49-5814-4ecf-bbcf-82eef1bb5511');\n",
              "          const dataTable =\n",
              "            await google.colab.kernel.invokeFunction('convertToInteractive',\n",
              "                                                     [key], {});\n",
              "          if (!dataTable) return;\n",
              "\n",
              "          const docLinkHtml = 'Like what you see? Visit the ' +\n",
              "            '<a target=\"_blank\" href=https://colab.research.google.com/notebooks/data_table.ipynb>data table notebook</a>'\n",
              "            + ' to learn more about interactive tables.';\n",
              "          element.innerHTML = '';\n",
              "          dataTable['output_type'] = 'display_data';\n",
              "          await google.colab.output.renderOutput(dataTable, element);\n",
              "          const docLink = document.createElement('div');\n",
              "          docLink.innerHTML = docLinkHtml;\n",
              "          element.appendChild(docLink);\n",
              "        }\n",
              "      </script>\n",
              "    </div>\n",
              "  </div>\n",
              "  "
            ],
            "text/plain": [
              "                    qid  ... sentiment\n",
              "0  a3dee568776c08512c89  ...  0.000000\n",
              "1  bdb84f519e7b46e7b7bb  ...  0.400000\n",
              "2  29c88db470e2eb5c97ad  ...  0.000000\n",
              "3  3387d99bf2c3227ae8f1  ...  0.033333\n",
              "4  e79fa5038f765d0f2e7e  ...  0.079762\n",
              "\n",
              "[5 rows x 5 columns]"
            ]
          },
          "execution_count": null,
          "metadata": {},
          "output_type": "execute_result"
        }
      ],
      "source": [
        "df.head()"
      ]
    },
    {
      "cell_type": "code",
      "execution_count": null,
      "metadata": {
        "colab": {
          "background_save": true
        },
        "id": "yU4I_a31veWp"
      },
      "outputs": [],
      "source": [
        "# import seaborn as sns\n",
        "# corr_matrix = df[['target','sentiment', 'review_len', 'word_count']].corr()\n",
        "# sns.heatmap(corr_matrix)"
      ]
    },
    {
      "cell_type": "markdown",
      "metadata": {
        "id": "oQmnlQKfq_nz"
      },
      "source": [
        "# Word frequency analysis"
      ]
    },
    {
      "cell_type": "code",
      "execution_count": null,
      "metadata": {
        "colab": {
          "background_save": true
        },
        "id": "zEv-MCIS8DHk"
      },
      "outputs": [],
      "source": [
        "def common_words(data_column, top):\n",
        "  all_words = []\n",
        "  data_column.apply(lambda words: all_words.extend(words))\n",
        "  most_common_words = FreqDist(all_words).most_common(top)\n",
        "  x, y = zip(*most_common_words)\n",
        "  plt.figure(figsize=(8,6))\n",
        "  plt.bar(x,y)\n",
        "  plt.xticks(rotation=60)\n",
        "  plt.xlabel('Words')\n",
        "  plt.ylabel('Frequency of Words')\n",
        "  plt.show()"
      ]
    },
    {
      "cell_type": "code",
      "execution_count": null,
      "metadata": {
        "colab": {
          "background_save": true
        },
        "id": "roFE5MCI8y5_",
        "outputId": "d3ab020a-4bcd-49fd-f4d2-439ebaa79294"
      },
      "outputs": [
        {
          "data": {
            "image/png": "[encoded data removed]",
            "text/plain": [
              "<Figure size 576x432 with 1 Axes>"
            ]
          },
          "metadata": {},
          "output_type": "display_data"
        }
      ],
      "source": [
        "common_words(df['processed_data'],30)"
      ]
    },
    {
      "cell_type": "code",
      "execution_count": null,
      "metadata": {
        "colab": {
          "background_save": true
        },
        "id": "idCTJjTH3nS0"
      },
      "outputs": [],
      "source": [
        "target0 = df[df['target']==0]['processed_data']\n",
        "target1 = df[df['target']==1]['processed_data']"
      ]
    },
    {
      "cell_type": "code",
      "execution_count": null,
      "metadata": {
        "colab": {
          "background_save": true
        },
        "id": "EZwvkAZZ7S-9",
        "outputId": "4c6d11de-16b2-4a41-dc96-59079564b57b"
      },
      "outputs": [
        {
          "data": {
            "image/png": "[encoded data removed]",
            "text/plain": [
              "<Figure size 576x432 with 1 Axes>"
            ]
          },
          "metadata": {},
          "output_type": "display_data"
        }
      ],
      "source": [
        "common_words(target0,30)"
      ]
    },
    {
      "cell_type": "code",
      "execution_count": null,
      "metadata": {
        "colab": {
          "background_save": true
        },
        "id": "UT5ITIE39aZq",
        "outputId": "145ac05a-a476-4f25-ca05-44bad257971b"
      },
      "outputs": [
        {
          "data": {
            "image/png": "[encoded data removed]",
            "text/plain": [
              "<Figure size 576x432 with 1 Axes>"
            ]
          },
          "metadata": {},
          "output_type": "display_data"
        }
      ],
      "source": [
        "common_words(target1,30)"
      ]
    },
    {
      "cell_type": "code",
      "execution_count": null,
      "metadata": {
        "colab": {
          "background_save": true
        },
        "id": "IAtRWKirGrVl"
      },
      "outputs": [],
      "source": [
        "wordcloud = WordCloud(width = 648, height = 463, background_color ='white').generate(\" \".join(df['question_text']))"
      ]
    },
    {
      "cell_type": "code",
      "execution_count": null,
      "metadata": {
        "colab": {
          "background_save": true
        },
        "id": "gmyXd3fnJh06",
        "outputId": "2433e4e1-8029-4406-c400-3bd2070dba47"
      },
      "outputs": [
        {
          "data": {
            "image/png": "[encoded data removed]",
            "text/plain": [
              "<Figure size 432x360 with 1 Axes>"
            ]
          },
          "metadata": {},
          "output_type": "display_data"
        }
      ],
      "source": [
        "plt.figure(figsize = (6, 5), facecolor = None)\n",
        "plt.imshow(wordcloud)\n",
        "plt.axis(\"off\")\n",
        "plt.tight_layout(pad = 0)\n",
        "plt.show()"
      ]
    },
    {
      "cell_type": "markdown",
      "metadata": {
        "id": "NC5fPXUs-3hq"
      },
      "source": [
        "# Training"
      ]
    },
    {
      "cell_type": "markdown",
      "metadata": {
        "id": "7COzdYOcDFXW"
      },
      "source": [
        "## Count Vectorizer"
      ]
    },
    {
      "cell_type": "code",
      "execution_count": null,
      "metadata": {
        "colab": {
          "background_save": true
        },
        "id": "WMfKtU77DEUk",
        "outputId": "ff8b1b95-24b1-438f-9b21-ee0186edd8aa"
      },
      "outputs": [
        {
          "data": {
            "text/plain": [
              "CountVectorizer(ngram_range=(1, 3))"
            ]
          },
          "execution_count": null,
          "metadata": {},
          "output_type": "execute_result"
        }
      ],
      "source": [
        "# vectorizer = CountVectorizer(min_df=2, lowercase=True, strip_accents='ascii', ngram_range = (1,3))\n",
        "vectorizer = CountVectorizer(ngram_range = (1,3))\n",
        "vectorizer.fit(full_df['question_text'])"
      ]
    },
    {
      "cell_type": "code",
      "execution_count": null,
      "metadata": {
        "colab": {
          "background_save": true
        },
        "id": "abTSr51QDLRS"
      },
      "outputs": [],
      "source": [
        "train_data = vectorizer.transform(df['question_text'])\n",
        "test_data = vectorizer.transform(test_df['question_text'])"
      ]
    },
    {
      "cell_type": "markdown",
      "metadata": {
        "id": "CoV5QVFqEplc"
      },
      "source": [
        "## TF-IDF"
      ]
    },
    {
      "cell_type": "markdown",
      "metadata": {
        "id": "h-mkC2VuDCzg"
      },
      "source": [
        "Term Frequency–Inverse Document Frequency: Gives advantage over using raw frequencies by reducing the bias due to tokens whose frequency is more."
      ]
    },
    {
      "cell_type": "code",
      "execution_count": null,
      "metadata": {
        "colab": {
          "background_save": true
        },
        "id": "pLI1wB0sBuST"
      },
      "outputs": [],
      "source": [
        "# vectorizer = TfidfVectorizer(min_df=2, max_features=100000)\n",
        "# vectorizer.fit(full_df['processed_data'])"
      ]
    },
    {
      "cell_type": "code",
      "execution_count": null,
      "metadata": {
        "colab": {
          "background_save": true
        },
        "id": "v3ZDerok_Ks2"
      },
      "outputs": [],
      "source": [
        "# train_data = vectorizer.transform(df['question_text'])\n",
        "# test_data = vectorizer.transform(test_df['question_text'])"
      ]
    },
    {
      "cell_type": "markdown",
      "metadata": {
        "id": "Pk1Gy73YGkuy"
      },
      "source": [
        "## Word2Vec \n"
      ]
    },
    {
      "cell_type": "code",
      "execution_count": null,
      "metadata": {
        "colab": {
          "background_save": true
        },
        "id": "Ea6bQIVVGku1"
      },
      "outputs": [],
      "source": [
        "# import gensim\n",
        "# from sklearn.linear_model import LogisticRegression"
      ]
    },
    {
      "cell_type": "code",
      "execution_count": null,
      "metadata": {
        "colab": {
          "background_save": true
        },
        "id": "17XmWBDwGku5"
      },
      "outputs": [],
      "source": [
        "# model = gensim.models.Word2Vec(size=400, min_count=2, workers=4, sg=0)\n",
        "# model.build_vocab(data)"
      ]
    },
    {
      "cell_type": "code",
      "execution_count": null,
      "metadata": {
        "colab": {
          "background_save": true
        },
        "id": "spOAxh4-JtCt"
      },
      "outputs": [],
      "source": [
        "# mean_vectors = pd.DataFrame()\n",
        "# for doc in data:\n",
        "#     temp = pd.DataFrame()\n",
        "#     for word in doc:\n",
        "#           try:\n",
        "#               word_vec = model.wv.get_vector(word)\n",
        "#               temp = temp.append(pd.Series(word_vec), ignore_index = True)\n",
        "#           except:\n",
        "#               pass\n",
        "#     mean_vector = temp.mean()\n",
        "#     mean_vectors = mean_vectors.append(mean_vector, ignore_index = True)\n",
        "# mean_vectors.shape"
      ]
    },
    {
      "cell_type": "code",
      "execution_count": null,
      "metadata": {
        "colab": {
          "background_save": true
        },
        "id": "l1DAZ_S1Gpsx"
      },
      "outputs": [],
      "source": [
        "# train_data = mean_vectors[0:df.shape[0], :]\n",
        "# test_data = mean_vectors[df.shape[0]:, :]"
      ]
    },
    {
      "cell_type": "markdown",
      "metadata": {
        "id": "UG3-LcW34kzx"
      },
      "source": [
        "## Models\n"
      ]
    },
    {
      "cell_type": "markdown",
      "metadata": {
        "id": "7hGreyvAP_fq"
      },
      "source": [
        "### Gradient Boost"
      ]
    },
    {
      "cell_type": "markdown",
      "metadata": {
        "id": "t6Hi9ZH13UsO"
      },
      "source": [
        "Took too long to train(over 4 hours)"
      ]
    },
    {
      "cell_type": "code",
      "execution_count": null,
      "metadata": {
        "colab": {
          "background_save": true
        },
        "id": "aZh2Xa1g4ucN"
      },
      "outputs": [],
      "source": [
        "# model = GradientBoostingClassifier()"
      ]
    },
    {
      "cell_type": "markdown",
      "metadata": {
        "id": "putnOERmQvSs"
      },
      "source": [
        "### AdaBoost"
      ]
    },
    {
      "cell_type": "markdown",
      "metadata": {
        "id": "l7Co7ILd3iSw"
      },
      "source": [
        "Took too long to train(over 4 hours)"
      ]
    },
    {
      "cell_type": "code",
      "execution_count": null,
      "metadata": {
        "colab": {
          "background_save": true
        },
        "id": "NuZL5c_cQxTR"
      },
      "outputs": [],
      "source": [
        "# model = AdaBoostClassifier()"
      ]
    },
    {
      "cell_type": "markdown",
      "metadata": {
        "id": "5jmLh96VH9lE"
      },
      "source": [
        "### XGBoost"
      ]
    },
    {
      "cell_type": "code",
      "execution_count": null,
      "metadata": {
        "colab": {
          "background_save": true
        },
        "id": "G-doiUJNHPim"
      },
      "outputs": [],
      "source": [
        "# model = xgb.XGBClassifier(objective=\"binary:logistic\", random_state=42)"
      ]
    },
    {
      "cell_type": "markdown",
      "metadata": {
        "id": "h-ppPxGYQECB"
      },
      "source": [
        "### Other models tried"
      ]
    },
    {
      "cell_type": "markdown",
      "metadata": {
        "id": "03VTMsmG3rVU"
      },
      "source": [
        "Took too long to train(over 3 hours)"
      ]
    },
    {
      "cell_type": "code",
      "execution_count": null,
      "metadata": {
        "colab": {
          "background_save": true
        },
        "id": "YDDHorpNBzoO"
      },
      "outputs": [],
      "source": [
        "# model = LinearSVC()"
      ]
    },
    {
      "cell_type": "markdown",
      "metadata": {
        "id": "lqCuTjN13zZR"
      },
      "source": [
        "SGDClassifier gave a very low score locally"
      ]
    },
    {
      "cell_type": "code",
      "execution_count": null,
      "metadata": {
        "colab": {
          "background_save": true
        },
        "id": "syJ3lnbjB2_g"
      },
      "outputs": [],
      "source": [
        "# model = SGDClassifier()"
      ]
    },
    {
      "cell_type": "markdown",
      "metadata": {
        "id": "gPjgm9Pp4CAl"
      },
      "source": [
        "Both Decision Tree and Random Forest gave poor results on Kaggle (less than 0.20)"
      ]
    },
    {
      "cell_type": "code",
      "execution_count": null,
      "metadata": {
        "colab": {
          "background_save": true
        },
        "id": "5KJXMFm-B4vh"
      },
      "outputs": [],
      "source": [
        "# model = DecisionTreeClassifier(random_state=0)"
      ]
    },
    {
      "cell_type": "code",
      "execution_count": null,
      "metadata": {
        "colab": {
          "background_save": true
        },
        "id": "Zp91-uiAB9Jk"
      },
      "outputs": [],
      "source": [
        "# model = RandomForestClassifier(max_depth=2, random_state=0)"
      ]
    },
    {
      "cell_type": "markdown",
      "metadata": {
        "id": "okJs3Z6m4N6H"
      },
      "source": [
        "Gaussian Naive Bayes gave decent results, but not better than Logistic Regression"
      ]
    },
    {
      "cell_type": "code",
      "execution_count": null,
      "metadata": {
        "colab": {
          "background_save": true
        },
        "id": "s1nhALZ8CAxe"
      },
      "outputs": [],
      "source": [
        "# model = GaussianNB()"
      ]
    },
    {
      "cell_type": "markdown",
      "metadata": {
        "id": "9bmHZEJTQLiL"
      },
      "source": [
        "### Multinomial Naive Bayes"
      ]
    },
    {
      "cell_type": "markdown",
      "metadata": {
        "id": "UUXVYEKe4exE"
      },
      "source": [
        "Multinomial Naive Bayes also gave decent results, but not better than Logistic Regression"
      ]
    },
    {
      "cell_type": "code",
      "execution_count": null,
      "metadata": {
        "colab": {
          "background_save": true
        },
        "id": "ZpaK7knxCFhe"
      },
      "outputs": [],
      "source": [
        "# model = MultinomialNB(alpha=0.001)"
      ]
    },
    {
      "cell_type": "markdown",
      "metadata": {
        "id": "O0CWPUFwQHwo"
      },
      "source": [
        "### Multilayer Perceptron"
      ]
    },
    {
      "cell_type": "markdown",
      "metadata": {
        "id": "8j0KTdvB4m7W"
      },
      "source": [
        "Took a very long time to train, but gave decent results (At one point, our highest). But Logistic Regression, with some tuning, was able to perform better."
      ]
    },
    {
      "cell_type": "code",
      "execution_count": null,
      "metadata": {
        "colab": {
          "background_save": true
        },
        "id": "qzlkfgRhC2uj"
      },
      "outputs": [],
      "source": [
        "# model = MLPClassifier(hidden_layer_sizes=5,activation='relu', learning_rate='invscaling',random_state=50, max_iter=35)"
      ]
    },
    {
      "cell_type": "markdown",
      "metadata": {
        "id": "JwjkxfeiA-ch"
      },
      "source": [
        "### Perceptron"
      ]
    },
    {
      "cell_type": "markdown",
      "metadata": {
        "id": "9UyPxd4KBApL"
      },
      "source": [
        "Perceptron gave very poor results locally, taking minimal time to train."
      ]
    },
    {
      "cell_type": "code",
      "execution_count": null,
      "metadata": {
        "colab": {
          "background_save": true
        },
        "id": "5Ri6wNCNFvMv"
      },
      "outputs": [],
      "source": [
        "# model = Perceptron(random_state=46)"
      ]
    },
    {
      "cell_type": "markdown",
      "metadata": {
        "id": "V5FHPaVIQVIq"
      },
      "source": [
        "### Logistic Regression"
      ]
    },
    {
      "cell_type": "markdown",
      "metadata": {
        "id": "bYHPtn4KAU_H"
      },
      "source": [
        "Model used for submission with highest score."
      ]
    },
    {
      "cell_type": "code",
      "execution_count": null,
      "metadata": {
        "colab": {
          "background_save": true
        },
        "id": "5Jk7KgTxErDJ"
      },
      "outputs": [],
      "source": [
        "model = LogisticRegression(max_iter=1500, solver='lbfgs', penalty = 'l2')"
      ]
    },
    {
      "cell_type": "markdown",
      "metadata": {
        "id": "9pjhXtIbAcoJ"
      },
      "source": [
        "Used gridsearchcv to find hyperparameters. Gave good results locally, but not on Kaggle. Did not use it for final submission."
      ]
    },
    {
      "cell_type": "code",
      "execution_count": null,
      "metadata": {
        "colab": {
          "background_save": true
        },
        "id": "P0c63WgNGFsa"
      },
      "outputs": [],
      "source": [
        "# grid = {\"C\":np.logspace(-3,3,7), \"penalty\":[\"l2\"]}\n",
        "# logreg = LogisticRegression()\n",
        "# model = GridSearchCV(logreg,grid,cv=10)"
      ]
    },
    {
      "cell_type": "markdown",
      "metadata": {
        "id": "maApiIkfBsM0"
      },
      "source": [
        "### Training"
      ]
    },
    {
      "cell_type": "code",
      "execution_count": null,
      "metadata": {
        "colab": {
          "background_save": true
        },
        "id": "BbCpyBceCEg4"
      },
      "outputs": [],
      "source": [
        "x_train, x_valid, y_train, y_valid = train_test_split(train_data, df['target'], test_size=0.3, random_state=42)"
      ]
    },
    {
      "cell_type": "code",
      "execution_count": null,
      "metadata": {
        "colab": {
          "background_save": true
        },
        "id": "2STLiqOSBrbd",
        "outputId": "dc4aa26c-70d5-48c5-849f-c1611a2b0a27"
      },
      "outputs": [
        {
          "data": {
            "text/plain": [
              "LogisticRegression(max_iter=1500)"
            ]
          },
          "execution_count": null,
          "metadata": {},
          "output_type": "execute_result"
        }
      ],
      "source": [
        "model.fit(x_train, y_train)"
      ]
    },
    {
      "cell_type": "code",
      "execution_count": null,
      "metadata": {
        "colab": {
          "background_save": true
        },
        "id": "cPv7loSAB4cT"
      },
      "outputs": [],
      "source": [
        "pred_prob = model.predict_proba(x_valid)[:, 1]"
      ]
    },
    {
      "cell_type": "code",
      "execution_count": null,
      "metadata": {
        "colab": {
          "background_save": true
        },
        "id": "8Krf6IIeCP6x"
      },
      "outputs": [],
      "source": [
        "y_pred = (pred_prob > 0.2).astype(np.int)"
      ]
    },
    {
      "cell_type": "code",
      "execution_count": null,
      "metadata": {
        "colab": {
          "background_save": true
        },
        "id": "6__ORUaNCT02",
        "outputId": "e51d5a97-56d0-4969-cf0c-4a7385b9104a"
      },
      "outputs": [
        {
          "data": {
            "text/plain": [
              "0.6268265565438373"
            ]
          },
          "execution_count": null,
          "metadata": {},
          "output_type": "execute_result"
        }
      ],
      "source": [
        "f1_score(y_valid, y_pred)"
      ]
    },
    {
      "cell_type": "markdown",
      "metadata": {
        "id": "KxfdmXxOCZjl"
      },
      "source": [
        "## Prediction on test data\n"
      ]
    },
    {
      "cell_type": "code",
      "execution_count": null,
      "metadata": {
        "colab": {
          "background_save": true
        },
        "id": "E0y4zZB_CcUp"
      },
      "outputs": [],
      "source": [
        "test_pred_prob = model.predict_proba(test_data)[:, 1]"
      ]
    },
    {
      "cell_type": "code",
      "execution_count": null,
      "metadata": {
        "colab": {
          "background_save": true
        },
        "id": "IjKQtoTWE5Zs"
      },
      "outputs": [],
      "source": [
        "y_test_pred = (test_pred_prob > 0.2).astype(np.int)\n",
        "test_df['target'] = y_test_pred"
      ]
    },
    {
      "cell_type": "code",
      "execution_count": null,
      "metadata": {
        "colab": {
          "background_save": true
        },
        "id": "Wuj45TbKE9Wk"
      },
      "outputs": [],
      "source": [
        "test_df.drop('question_text', axis = 'columns', inplace=True)\n",
        "test_df.to_csv(\"/content/drive/My Drive/Colab Notebooks/ML Project/submission.csv\", index = False)"
      ]
    }
  ],
  "metadata": {
    "colab": {
      "collapsed_sections": [
        "ZN0VQNWl9lvs",
        "3kYbigd9r05K",
        "hvfvEb7t2zQo",
        "HaK33trr3Y6M",
        "Qs7GnDN73d9I",
        "d3pVB0kO3hC0",
        "ZcluqFXm3qBv",
        "8XWyM23URXdJ",
        "Pk1Gy73YGkuy"
      ],
      "name": "final.ipynb",
      "provenance": []
    },
    "kernelspec": {
      "display_name": "Python 3",
      "name": "python3"
    },
    "language_info": {
      "name": "python"
    }
  },
  "nbformat": 4,
  "nbformat_minor": 0
}